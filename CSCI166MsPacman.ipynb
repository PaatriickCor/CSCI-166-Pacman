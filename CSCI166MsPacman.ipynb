{
  "nbformat": 4,
  "nbformat_minor": 0,
  "metadata": {
    "colab": {
      "provenance": [],
      "gpuType": "T4",
      "include_colab_link": true
    },
    "kernelspec": {
      "name": "python3",
      "display_name": "Python 3"
    },
    "language_info": {
      "name": "python"
    },
    "accelerator": "GPU"
  },
  "cells": [
    {
      "cell_type": "markdown",
      "metadata": {
        "id": "view-in-github",
        "colab_type": "text"
      },
      "source": [
        "<a href=\"https://colab.research.google.com/github/PaatriickCor/CSCI-166-Pacman/blob/main/CSCI166MsPacman.ipynb\" target=\"_parent\"><img src=\"https://colab.research.google.com/assets/colab-badge.svg\" alt=\"Open In Colab\"/></a>"
      ]
    },
    {
      "cell_type": "markdown",
      "source": [
        "# Test 3 --- Final Test for 06.11.2025"
      ],
      "metadata": {
        "id": "XtOuIKifmmyk"
      }
    },
    {
      "cell_type": "code",
      "source": [
        "!pip install gymnasium[atari,accept-rom-license]\n",
        "!pip install autorom\n",
        "!pip install stable-baselines3"
      ],
      "metadata": {
        "colab": {
          "base_uri": "https://localhost:8080/"
        },
        "id": "aqL9333gml9l",
        "outputId": "50b18e03-1bd5-4fea-f67c-102b077e0dbf"
      },
      "execution_count": 43,
      "outputs": [
        {
          "output_type": "stream",
          "name": "stdout",
          "text": [
            "Requirement already satisfied: gymnasium[accept-rom-license,atari] in /usr/local/lib/python3.12/dist-packages (1.2.0)\n",
            "\u001b[33mWARNING: gymnasium 1.2.0 does not provide the extra 'accept-rom-license'\u001b[0m\u001b[33m\n",
            "\u001b[0mRequirement already satisfied: numpy>=1.21.0 in /usr/local/lib/python3.12/dist-packages (from gymnasium[accept-rom-license,atari]) (2.0.2)\n",
            "Requirement already satisfied: cloudpickle>=1.2.0 in /usr/local/lib/python3.12/dist-packages (from gymnasium[accept-rom-license,atari]) (3.1.1)\n",
            "Requirement already satisfied: typing-extensions>=4.3.0 in /usr/local/lib/python3.12/dist-packages (from gymnasium[accept-rom-license,atari]) (4.15.0)\n",
            "Requirement already satisfied: farama-notifications>=0.0.1 in /usr/local/lib/python3.12/dist-packages (from gymnasium[accept-rom-license,atari]) (0.0.4)\n",
            "Requirement already satisfied: ale_py>=0.9 in /usr/local/lib/python3.12/dist-packages (from gymnasium[accept-rom-license,atari]) (0.11.2)\n",
            "Requirement already satisfied: autorom in /usr/local/lib/python3.12/dist-packages (0.6.1)\n",
            "Requirement already satisfied: click in /usr/local/lib/python3.12/dist-packages (from autorom) (8.2.1)\n",
            "Requirement already satisfied: requests in /usr/local/lib/python3.12/dist-packages (from autorom) (2.32.4)\n",
            "Requirement already satisfied: charset_normalizer<4,>=2 in /usr/local/lib/python3.12/dist-packages (from requests->autorom) (3.4.3)\n",
            "Requirement already satisfied: idna<4,>=2.5 in /usr/local/lib/python3.12/dist-packages (from requests->autorom) (3.10)\n",
            "Requirement already satisfied: urllib3<3,>=1.21.1 in /usr/local/lib/python3.12/dist-packages (from requests->autorom) (2.5.0)\n",
            "Requirement already satisfied: certifi>=2017.4.17 in /usr/local/lib/python3.12/dist-packages (from requests->autorom) (2025.8.3)\n",
            "Requirement already satisfied: stable-baselines3 in /usr/local/lib/python3.12/dist-packages (2.7.0)\n",
            "Requirement already satisfied: gymnasium<1.3.0,>=0.29.1 in /usr/local/lib/python3.12/dist-packages (from stable-baselines3) (1.2.0)\n",
            "Requirement already satisfied: numpy<3.0,>=1.20 in /usr/local/lib/python3.12/dist-packages (from stable-baselines3) (2.0.2)\n",
            "Requirement already satisfied: torch<3.0,>=2.3 in /usr/local/lib/python3.12/dist-packages (from stable-baselines3) (2.8.0+cu126)\n",
            "Requirement already satisfied: cloudpickle in /usr/local/lib/python3.12/dist-packages (from stable-baselines3) (3.1.1)\n",
            "Requirement already satisfied: pandas in /usr/local/lib/python3.12/dist-packages (from stable-baselines3) (2.2.2)\n",
            "Requirement already satisfied: matplotlib in /usr/local/lib/python3.12/dist-packages (from stable-baselines3) (3.10.0)\n",
            "Requirement already satisfied: typing-extensions>=4.3.0 in /usr/local/lib/python3.12/dist-packages (from gymnasium<1.3.0,>=0.29.1->stable-baselines3) (4.15.0)\n",
            "Requirement already satisfied: farama-notifications>=0.0.1 in /usr/local/lib/python3.12/dist-packages (from gymnasium<1.3.0,>=0.29.1->stable-baselines3) (0.0.4)\n",
            "Requirement already satisfied: filelock in /usr/local/lib/python3.12/dist-packages (from torch<3.0,>=2.3->stable-baselines3) (3.19.1)\n",
            "Requirement already satisfied: setuptools in /usr/local/lib/python3.12/dist-packages (from torch<3.0,>=2.3->stable-baselines3) (75.2.0)\n",
            "Requirement already satisfied: sympy>=1.13.3 in /usr/local/lib/python3.12/dist-packages (from torch<3.0,>=2.3->stable-baselines3) (1.13.3)\n",
            "Requirement already satisfied: networkx in /usr/local/lib/python3.12/dist-packages (from torch<3.0,>=2.3->stable-baselines3) (3.5)\n",
            "Requirement already satisfied: jinja2 in /usr/local/lib/python3.12/dist-packages (from torch<3.0,>=2.3->stable-baselines3) (3.1.6)\n",
            "Requirement already satisfied: fsspec in /usr/local/lib/python3.12/dist-packages (from torch<3.0,>=2.3->stable-baselines3) (2025.3.0)\n",
            "Requirement already satisfied: nvidia-cuda-nvrtc-cu12==12.6.77 in /usr/local/lib/python3.12/dist-packages (from torch<3.0,>=2.3->stable-baselines3) (12.6.77)\n",
            "Requirement already satisfied: nvidia-cuda-runtime-cu12==12.6.77 in /usr/local/lib/python3.12/dist-packages (from torch<3.0,>=2.3->stable-baselines3) (12.6.77)\n",
            "Requirement already satisfied: nvidia-cuda-cupti-cu12==12.6.80 in /usr/local/lib/python3.12/dist-packages (from torch<3.0,>=2.3->stable-baselines3) (12.6.80)\n",
            "Requirement already satisfied: nvidia-cudnn-cu12==9.10.2.21 in /usr/local/lib/python3.12/dist-packages (from torch<3.0,>=2.3->stable-baselines3) (9.10.2.21)\n",
            "Requirement already satisfied: nvidia-cublas-cu12==12.6.4.1 in /usr/local/lib/python3.12/dist-packages (from torch<3.0,>=2.3->stable-baselines3) (12.6.4.1)\n",
            "Requirement already satisfied: nvidia-cufft-cu12==11.3.0.4 in /usr/local/lib/python3.12/dist-packages (from torch<3.0,>=2.3->stable-baselines3) (11.3.0.4)\n",
            "Requirement already satisfied: nvidia-curand-cu12==10.3.7.77 in /usr/local/lib/python3.12/dist-packages (from torch<3.0,>=2.3->stable-baselines3) (10.3.7.77)\n",
            "Requirement already satisfied: nvidia-cusolver-cu12==11.7.1.2 in /usr/local/lib/python3.12/dist-packages (from torch<3.0,>=2.3->stable-baselines3) (11.7.1.2)\n",
            "Requirement already satisfied: nvidia-cusparse-cu12==12.5.4.2 in /usr/local/lib/python3.12/dist-packages (from torch<3.0,>=2.3->stable-baselines3) (12.5.4.2)\n",
            "Requirement already satisfied: nvidia-cusparselt-cu12==0.7.1 in /usr/local/lib/python3.12/dist-packages (from torch<3.0,>=2.3->stable-baselines3) (0.7.1)\n",
            "Requirement already satisfied: nvidia-nccl-cu12==2.27.3 in /usr/local/lib/python3.12/dist-packages (from torch<3.0,>=2.3->stable-baselines3) (2.27.3)\n",
            "Requirement already satisfied: nvidia-nvtx-cu12==12.6.77 in /usr/local/lib/python3.12/dist-packages (from torch<3.0,>=2.3->stable-baselines3) (12.6.77)\n",
            "Requirement already satisfied: nvidia-nvjitlink-cu12==12.6.85 in /usr/local/lib/python3.12/dist-packages (from torch<3.0,>=2.3->stable-baselines3) (12.6.85)\n",
            "Requirement already satisfied: nvidia-cufile-cu12==1.11.1.6 in /usr/local/lib/python3.12/dist-packages (from torch<3.0,>=2.3->stable-baselines3) (1.11.1.6)\n",
            "Requirement already satisfied: triton==3.4.0 in /usr/local/lib/python3.12/dist-packages (from torch<3.0,>=2.3->stable-baselines3) (3.4.0)\n",
            "Requirement already satisfied: contourpy>=1.0.1 in /usr/local/lib/python3.12/dist-packages (from matplotlib->stable-baselines3) (1.3.3)\n",
            "Requirement already satisfied: cycler>=0.10 in /usr/local/lib/python3.12/dist-packages (from matplotlib->stable-baselines3) (0.12.1)\n",
            "Requirement already satisfied: fonttools>=4.22.0 in /usr/local/lib/python3.12/dist-packages (from matplotlib->stable-baselines3) (4.60.0)\n",
            "Requirement already satisfied: kiwisolver>=1.3.1 in /usr/local/lib/python3.12/dist-packages (from matplotlib->stable-baselines3) (1.4.9)\n",
            "Requirement already satisfied: packaging>=20.0 in /usr/local/lib/python3.12/dist-packages (from matplotlib->stable-baselines3) (25.0)\n",
            "Requirement already satisfied: pillow>=8 in /usr/local/lib/python3.12/dist-packages (from matplotlib->stable-baselines3) (11.3.0)\n",
            "Requirement already satisfied: pyparsing>=2.3.1 in /usr/local/lib/python3.12/dist-packages (from matplotlib->stable-baselines3) (3.2.4)\n",
            "Requirement already satisfied: python-dateutil>=2.7 in /usr/local/lib/python3.12/dist-packages (from matplotlib->stable-baselines3) (2.9.0.post0)\n",
            "Requirement already satisfied: pytz>=2020.1 in /usr/local/lib/python3.12/dist-packages (from pandas->stable-baselines3) (2025.2)\n",
            "Requirement already satisfied: tzdata>=2022.7 in /usr/local/lib/python3.12/dist-packages (from pandas->stable-baselines3) (2025.2)\n",
            "Requirement already satisfied: six>=1.5 in /usr/local/lib/python3.12/dist-packages (from python-dateutil>=2.7->matplotlib->stable-baselines3) (1.17.0)\n",
            "Requirement already satisfied: mpmath<1.4,>=1.1.0 in /usr/local/lib/python3.12/dist-packages (from sympy>=1.13.3->torch<3.0,>=2.3->stable-baselines3) (1.3.0)\n",
            "Requirement already satisfied: MarkupSafe>=2.0 in /usr/local/lib/python3.12/dist-packages (from jinja2->torch<3.0,>=2.3->stable-baselines3) (3.0.2)\n"
          ]
        }
      ]
    },
    {
      "cell_type": "code",
      "source": [
        "!AutoROM --accept-license"
      ],
      "metadata": {
        "colab": {
          "base_uri": "https://localhost:8080/"
        },
        "id": "Oi2qmVoVmxve",
        "outputId": "78abf9bf-2edf-42d3-c40c-6d28ddebe56c"
      },
      "execution_count": 44,
      "outputs": [
        {
          "output_type": "stream",
          "name": "stdout",
          "text": [
            "AutoROM will download the Atari 2600 ROMs.\n",
            "They will be installed to:\n",
            "\t/usr/local/lib/python3.12/dist-packages/AutoROM/roms\n",
            "\n",
            "Existing ROMs will be overwritten.\n"
          ]
        }
      ]
    },
    {
      "cell_type": "markdown",
      "source": [
        "# Install the Gym"
      ],
      "metadata": {
        "id": "RQyqgMFzT-qi"
      }
    },
    {
      "cell_type": "code",
      "source": [
        "import ale_py\n",
        "import gymnasium as gym"
      ],
      "metadata": {
        "id": "_W_afhrzUAnp"
      },
      "execution_count": 45,
      "outputs": []
    },
    {
      "cell_type": "markdown",
      "source": [
        "# Configure the model save drive"
      ],
      "metadata": {
        "id": "E0n7zQrALq7M"
      }
    },
    {
      "cell_type": "code",
      "source": [
        "from google.colab import drive\n",
        "drive.mount('/content/drive')"
      ],
      "metadata": {
        "id": "v8hSrWrrLibc",
        "colab": {
          "base_uri": "https://localhost:8080/"
        },
        "outputId": "6f41e3e1-78cc-432b-99dc-c8870054fdc5"
      },
      "execution_count": 46,
      "outputs": [
        {
          "output_type": "stream",
          "name": "stdout",
          "text": [
            "Drive already mounted at /content/drive; to attempt to forcibly remount, call drive.mount(\"/content/drive\", force_remount=True).\n"
          ]
        }
      ]
    },
    {
      "cell_type": "code",
      "source": [
        "import os\n",
        "save_dir = \"/content/drive/MyDrive/PUBLIC/Models\"\n",
        "os.makedirs(save_dir, exist_ok=True)"
      ],
      "metadata": {
        "id": "vlWPUjKfLv9y"
      },
      "execution_count": 47,
      "outputs": []
    },
    {
      "cell_type": "markdown",
      "source": [
        "# Now Model"
      ],
      "metadata": {
        "id": "SAEvyoukL1T3"
      }
    },
    {
      "cell_type": "code",
      "source": [
        "from dataclasses import dataclass\n",
        "import argparse\n",
        "import time\n",
        "from datetime import datetime\n",
        "import numpy as np\n",
        "import collections\n",
        "import typing as tt\n",
        "\n",
        "import torch\n",
        "import torch.nn as nn\n",
        "import torch.optim as optim\n",
        "\n",
        "from torch.utils.tensorboard.writer import SummaryWriter"
      ],
      "metadata": {
        "id": "VCbjkLLSxCUN"
      },
      "execution_count": 48,
      "outputs": []
    },
    {
      "cell_type": "code",
      "source": [
        "#dqn_model\n",
        "class DQN(nn.Module):\n",
        "    def __init__(self, input_shape, n_actions):\n",
        "        super(DQN, self).__init__()\n",
        "\n",
        "        self.conv = nn.Sequential(\n",
        "            nn.Conv2d(input_shape[0], 32, kernel_size=8, stride=4),\n",
        "            nn.ReLU(),\n",
        "            nn.Conv2d(32, 64, kernel_size=4, stride=2),\n",
        "            nn.ReLU(),\n",
        "            nn.Conv2d(64, 64, kernel_size=3, stride=1),\n",
        "            nn.ReLU(),\n",
        "            nn.Flatten(),\n",
        "        )\n",
        "        size = self.conv(torch.zeros(1, *input_shape)).size()[-1]\n",
        "        self.fc = nn.Sequential(\n",
        "            nn.Linear(size, 512),\n",
        "            nn.ReLU(),\n",
        "            nn.Linear(512, n_actions)\n",
        "        )\n",
        "    def forward(self, x: torch.ByteTensor):\n",
        "        x = x.float() / 255.0\n",
        "        return self.fc(self.conv(x))"
      ],
      "metadata": {
        "id": "dIJ32Rs6xJsV"
      },
      "execution_count": 49,
      "outputs": []
    },
    {
      "cell_type": "code",
      "source": [
        "#wrappers\n",
        "\n",
        "from gymnasium import spaces\n",
        "from stable_baselines3.common import atari_wrappers\n",
        "\n",
        "\n",
        "class ImageToPyTorch(gym.ObservationWrapper):\n",
        "    \"\"\"\n",
        "    ImageToPyTorch: Reorders image dimensions from (H, W, C) to (C, H, W)\n",
        "    for compatibility with PyTorch convolutional layers.\n",
        "    \"\"\"\n",
        "    def __init__(self, env):\n",
        "        super(ImageToPyTorch, self).__init__(env)\n",
        "        obs = self.observation_space\n",
        "        assert isinstance(obs, gym.spaces.Box)\n",
        "        assert len(obs.shape) == 3\n",
        "        new_shape = (obs.shape[-1], obs.shape[0], obs.shape[1])\n",
        "        self.observation_space = gym.spaces.Box(\n",
        "            low=obs.low.min(), high=obs.high.max(),\n",
        "            shape=new_shape, dtype=obs.dtype)\n",
        "\n",
        "    def observation(self, observation):\n",
        "        return np.moveaxis(observation, 2, 0)\n",
        "\n",
        "\n",
        "class BufferWrapper(gym.ObservationWrapper):\n",
        "    \"\"\"\n",
        "    BufferWrapper: Maintains a rolling window of the last `n_steps` frames\n",
        "    to give the agent a sense of temporal context.\n",
        "    \"\"\"\n",
        "    def __init__(self, env, n_steps):\n",
        "        super(BufferWrapper, self).__init__(env)\n",
        "        obs = env.observation_space\n",
        "        assert isinstance(obs, spaces.Box)\n",
        "        new_obs = gym.spaces.Box(\n",
        "            obs.low.repeat(n_steps, axis=0), obs.high.repeat(n_steps, axis=0),\n",
        "            dtype=obs.dtype)\n",
        "        self.observation_space = new_obs\n",
        "        self.buffer = collections.deque(maxlen=n_steps)\n",
        "\n",
        "    def reset(self, *, seed: tt.Optional[int] = None, options: tt.Optional[dict[str, tt.Any]] = None):\n",
        "        for _ in range(self.buffer.maxlen):\n",
        "            self.buffer.append(np.zeros_like(self.env.observation_space.low))\n",
        "        obs, extra = self.env.reset()\n",
        "        return self.observation(obs), extra\n",
        "\n",
        "    def observation(self, observation: np.ndarray) -> np.ndarray:\n",
        "        self.buffer.append(observation)\n",
        "        return np.concatenate(self.buffer)\n",
        "\n",
        "\n",
        "def make_env(env_name: str, n_steps=4, render_mode=None, **kwargs):\n",
        "    print(f\"Creating environment {env_name}\")\n",
        "    env = gym.make(env_name, render_mode=render_mode, **kwargs)\n",
        "    env = atari_wrappers.AtariWrapper(env, clip_reward=True, noop_max=30)\n",
        "    env = ImageToPyTorch(env)\n",
        "    env = BufferWrapper(env, n_steps=n_steps)\n",
        "    return env"
      ],
      "metadata": {
        "id": "Vk2CtGcOBcQo"
      },
      "execution_count": 50,
      "outputs": []
    },
    {
      "cell_type": "code",
      "source": [
        "# Base Configuration\n",
        "DEFAULT_ENV_NAME = \"ALE/MsPacman-v5\"\n",
        "MEAN_REWARD_BOUND = 19\n",
        "\n",
        "GAMMA = 0.99\n",
        "BATCH_SIZE = 32\n",
        "REPLAY_SIZE = 10000\n",
        "LEARNING_RATE = 1e-4\n",
        "SYNC_TARGET_FRAMES = 1000\n",
        "REPLAY_START_SIZE = 10000\n",
        "\n",
        "SAVE_EPSILON = 0.5  # Only save if at least this much better\n",
        "EPSILON_DECAY_LAST_FRAME = 200000\n",
        "EPSILON_START = 1.0\n",
        "EPSILON_FINAL = 0.05\n",
        "\n",
        "# Tuple of tensors returned from a sampled minibatch in replay buffer\n",
        "State = np.ndarray\n",
        "Action = int\n",
        "BatchTensors = tt.Tuple[\n",
        "    torch.ByteTensor,           # current state\n",
        "    torch.LongTensor,           # actions\n",
        "    torch.Tensor,               # rewards\n",
        "    torch.BoolTensor,           # done || trunc\n",
        "    torch.ByteTensor            # next state\n",
        "]"
      ],
      "metadata": {
        "id": "GvXPdjPCBxOd"
      },
      "execution_count": 51,
      "outputs": []
    },
    {
      "cell_type": "code",
      "source": [
        "# ⚙️ Fast Training Config for Quick Test Run\n",
        "MEAN_REWARD_BOUND = 5\n",
        "REPLAY_START_SIZE = 1000\n",
        "EPSILON_DECAY_LAST_FRAME = 10_000\n",
        "SYNC_TARGET_FRAMES = 500\n",
        "\n",
        "# REPLAY_SIZE = 5000  # optional\n",
        "# BATCH_SIZE = 16     # optional"
      ],
      "metadata": {
        "id": "3FHvHNMrR9Sk"
      },
      "execution_count": 52,
      "outputs": []
    },
    {
      "cell_type": "code",
      "source": [
        "import os\n",
        "from pathlib import Path\n",
        "\n",
        "# Define directories\n",
        "save_dir_drive = \"/content/drive/MyDrive/PUBLIC/Models\"\n",
        "save_dir_local = \"saved_models\"\n",
        "\n",
        "# Create both directories if they don't exist\n",
        "os.makedirs(save_dir_drive, exist_ok=True)\n",
        "os.makedirs(save_dir_local, exist_ok=True)\n",
        "\n",
        "# Safe model filename\n",
        "env_name = DEFAULT_ENV_NAME\n",
        "safe_env_name = env_name.replace(\"/\", \"_\")"
      ],
      "metadata": {
        "id": "MkILCuT2OhBV"
      },
      "execution_count": 53,
      "outputs": []
    },
    {
      "cell_type": "code",
      "source": [
        "@dataclass\n",
        "class Experience:\n",
        "    state: State\n",
        "    action: Action\n",
        "    reward: float\n",
        "    done_trunc: bool\n",
        "    new_state: State\n",
        "\n",
        "\n",
        "class ExperienceBuffer:\n",
        "    def __init__(self, capacity: int):\n",
        "        self.buffer = collections.deque(maxlen=capacity)\n",
        "\n",
        "    def __len__(self):\n",
        "        return len(self.buffer)\n",
        "\n",
        "    def append(self, experience: Experience):\n",
        "        self.buffer.append(experience)\n",
        "\n",
        "    def sample(self, batch_size: int) -> tt.List[Experience]:\n",
        "        indices = np.random.choice(len(self), batch_size, replace=False)\n",
        "        return [self.buffer[idx] for idx in indices]"
      ],
      "metadata": {
        "id": "uW4Bo-mcB6rc"
      },
      "execution_count": 54,
      "outputs": []
    },
    {
      "cell_type": "code",
      "source": [
        "class Agent:\n",
        "    def __init__(self, env: gym.Env, exp_buffer: ExperienceBuffer):\n",
        "        self.env = env\n",
        "        self.exp_buffer = exp_buffer\n",
        "        self.state: tt.Optional[np.ndarray] = None\n",
        "        self._reset()\n",
        "\n",
        "    def _reset(self):\n",
        "        self.state, _ = self.env.reset()\n",
        "        self.total_reward = 0.0\n",
        "\n",
        "    @torch.no_grad()\n",
        "    def play_step(self, net: DQN, device: torch.device,\n",
        "                  epsilon: float = 0.0) -> tt.Optional[float]:\n",
        "        done_reward = None\n",
        "\n",
        "        if np.random.random() < epsilon:\n",
        "            action = env.action_space.sample()\n",
        "        else:\n",
        "            state_v = torch.as_tensor(self.state).to(device)\n",
        "            state_v.unsqueeze_(0)\n",
        "            q_vals_v = net(state_v)\n",
        "            _, act_v = torch.max(q_vals_v, dim=1)\n",
        "            action = int(act_v.item())\n",
        "\n",
        "        # do step in the environment\n",
        "        new_state, reward, is_done, is_tr, _ = self.env.step(action)\n",
        "        self.total_reward += reward\n",
        "\n",
        "        exp = Experience(\n",
        "            state=self.state, action=action, reward=float(reward),\n",
        "            done_trunc=is_done or is_tr, new_state=new_state\n",
        "        )\n",
        "        self.exp_buffer.append(exp)\n",
        "        self.state = new_state\n",
        "        if is_done or is_tr:\n",
        "            done_reward = self.total_reward\n",
        "            self._reset()\n",
        "        return done_reward"
      ],
      "metadata": {
        "id": "irJb4V32B-R8"
      },
      "execution_count": 55,
      "outputs": []
    },
    {
      "cell_type": "code",
      "source": [
        "def batch_to_tensors(batch: tt.List[Experience], device: torch.device) -> BatchTensors:\n",
        "    states, actions, rewards, dones, new_state = [], [], [], [], []\n",
        "    for e in batch:\n",
        "        states.append(e.state)\n",
        "        actions.append(e.action)\n",
        "        rewards.append(e.reward)\n",
        "        dones.append(e.done_trunc)\n",
        "        new_state.append(e.new_state)\n",
        "    states_t = torch.as_tensor(np.asarray(states))\n",
        "    actions_t = torch.LongTensor(actions)\n",
        "    rewards_t = torch.FloatTensor(rewards)\n",
        "    dones_t = torch.BoolTensor(dones)\n",
        "    new_states_t = torch.as_tensor(np.asarray(new_state))\n",
        "    return states_t.to(device), actions_t.to(device), rewards_t.to(device), \\\n",
        "           dones_t.to(device),  new_states_t.to(device)"
      ],
      "metadata": {
        "id": "vHXmNr_wCBJm"
      },
      "execution_count": 56,
      "outputs": []
    },
    {
      "cell_type": "code",
      "source": [
        "def calc_loss(batch: tt.List[Experience], net: DQN, tgt_net: DQN,\n",
        "              device: torch.device) -> torch.Tensor:\n",
        "    states_t, actions_t, rewards_t, dones_t, new_states_t = batch_to_tensors(batch, device)\n",
        "\n",
        "    state_action_values = net(states_t).gather(\n",
        "        1, actions_t.unsqueeze(-1)\n",
        "    ).squeeze(-1)\n",
        "    with torch.no_grad():\n",
        "        next_state_values = tgt_net(new_states_t).max(1)[0]\n",
        "        next_state_values[dones_t] = 0.0\n",
        "        next_state_values = next_state_values.detach()\n",
        "\n",
        "    expected_state_action_values = next_state_values * GAMMA + rewards_t\n",
        "    return nn.MSELoss()(state_action_values, expected_state_action_values)"
      ],
      "metadata": {
        "id": "-dbh0431CEXO"
      },
      "execution_count": 57,
      "outputs": []
    },
    {
      "cell_type": "code",
      "source": [
        "model_comment = f\"test_epsdec{EPSILON_DECAY_LAST_FRAME}_rs{REPLAY_START_SIZE}_sync{SYNC_TARGET_FRAMES}\"\n",
        "device = torch.device(\"cuda\" if torch.cuda.is_available() else \"cpu\")\n",
        "\n",
        "env = make_env(env_name)\n",
        "net = DQN(env.observation_space.shape, env.action_space.n).to(device)\n",
        "tgt_net = DQN(env.observation_space.shape, env.action_space.n).to(device)\n",
        "writer = SummaryWriter(comment=f\"-{env_name}-{model_comment}\")\n",
        "print(net)\n",
        "\n",
        "buffer = ExperienceBuffer(REPLAY_SIZE)\n",
        "agent = Agent(env, buffer)\n",
        "epsilon = EPSILON_START\n",
        "\n",
        "optimizer = optim.Adam(net.parameters(), lr=LEARNING_RATE)\n",
        "total_rewards = []\n",
        "frame_idx = 0\n",
        "ts_frame = 0\n",
        "ts = time.time()\n",
        "best_m_reward = None\n",
        "\n",
        "start_time = time.time()\n",
        "while True:\n",
        "    frame_idx += 1\n",
        "    epsilon = max(EPSILON_FINAL, EPSILON_START - frame_idx / EPSILON_DECAY_LAST_FRAME)\n",
        "\n",
        "    reward = agent.play_step(net, device, epsilon)\n",
        "    if reward is not None:\n",
        "        total_rewards.append(reward)\n",
        "        speed = (frame_idx - ts_frame) / (time.time() - ts)\n",
        "        elapsed = time.time() - start_time  # in seconds\n",
        "        ts_frame = frame_idx\n",
        "        ts = time.time()\n",
        "        m_reward = np.mean(total_rewards[-100:])\n",
        "        #  print(f\"{frame_idx}: done {len(total_rewards)} games, reward {m_reward:.3f}, \"\n",
        "        #      f\"eps {epsilon:.2f}, speed {speed:.2f} f/s, time {elapsed/60:.1f} min\")\n",
        "        writer.add_scalar(\"epsilon\", epsilon, frame_idx)\n",
        "        writer.add_scalar(\"speed\", speed, frame_idx)\n",
        "        writer.add_scalar(\"reward_100\", m_reward, frame_idx)\n",
        "        writer.add_scalar(\"reward\", reward, frame_idx)\n",
        "        if best_m_reward is None or m_reward > best_m_reward + SAVE_EPSILON:\n",
        "            print(f\"{frame_idx}: done {len(total_rewards)} games, reward {m_reward:.3f}, \"\n",
        "                f\"eps {epsilon:.2f}, speed {speed:.2f} f/s, time {elapsed/60:.1f} min\")\n",
        "            timestamp = datetime.now().strftime(\"%Y%m%d-%H%M\")\n",
        "            model_filename = f\"{safe_env_name}-best_{int(m_reward)}-{timestamp}-{model_comment}.dat\"\n",
        "\n",
        "            # Save to both paths\n",
        "            model_path_drive = os.path.join(save_dir_drive, model_filename)\n",
        "            model_path_local = os.path.join(save_dir_local, model_filename)\n",
        "\n",
        "            torch.save(net.state_dict(), model_path_drive)\n",
        "            torch.save(net.state_dict(), model_path_local)\n",
        "\n",
        "            print(f\"💾 Model saved to:\\n - Google Drive: {model_path_drive}\\n - Local:        {model_path_local}\")\n",
        "            if best_m_reward is not None:\n",
        "                print(f\"Best reward updated {best_m_reward:.3f} -> {m_reward:.3f}\")\n",
        "            best_m_reward = m_reward\n",
        "        if m_reward > MEAN_REWARD_BOUND:\n",
        "            print(\"Solved in %d frames!\" % frame_idx)\n",
        "            break\n",
        "    if len(buffer) < REPLAY_START_SIZE:\n",
        "        continue\n",
        "    if frame_idx % SYNC_TARGET_FRAMES == 0:\n",
        "        tgt_net.load_state_dict(net.state_dict())\n",
        "\n",
        "    optimizer.zero_grad()\n",
        "    batch = buffer.sample(BATCH_SIZE)\n",
        "    loss_t = calc_loss(batch, net, tgt_net, device)\n",
        "    loss_t.backward()\n",
        "    optimizer.step()\n",
        "env.close()\n",
        "writer.close()\n"
      ],
      "metadata": {
        "colab": {
          "base_uri": "https://localhost:8080/"
        },
        "id": "Q8gj-5woCXEB",
        "outputId": "b26d257f-9176-411e-85ce-33358434e3f4"
      },
      "execution_count": 58,
      "outputs": [
        {
          "output_type": "stream",
          "name": "stdout",
          "text": [
            "Creating environment ALE/MsPacman-v5\n",
            "DQN(\n",
            "  (conv): Sequential(\n",
            "    (0): Conv2d(4, 32, kernel_size=(8, 8), stride=(4, 4))\n",
            "    (1): ReLU()\n",
            "    (2): Conv2d(32, 64, kernel_size=(4, 4), stride=(2, 2))\n",
            "    (3): ReLU()\n",
            "    (4): Conv2d(64, 64, kernel_size=(3, 3), stride=(1, 1))\n",
            "    (5): ReLU()\n",
            "    (6): Flatten(start_dim=1, end_dim=-1)\n",
            "  )\n",
            "  (fc): Sequential(\n",
            "    (0): Linear(in_features=3136, out_features=512, bias=True)\n",
            "    (1): ReLU()\n",
            "    (2): Linear(in_features=512, out_features=9, bias=True)\n",
            "  )\n",
            ")\n",
            "39: done 1 games, reward 10.000, eps 1.00, speed 222.28 f/s, time 0.0 min\n",
            "💾 Model saved to:\n",
            " - Google Drive: /content/drive/MyDrive/PUBLIC/Models/ALE_MsPacman-v5-best_10-20250929-0445-test_epsdec10000_rs1000_sync500.dat\n",
            " - Local:        saved_models/ALE_MsPacman-v5-best_10-20250929-0445-test_epsdec10000_rs1000_sync500.dat\n",
            "Solved in 39 frames!\n"
          ]
        }
      ]
    },
    {
      "cell_type": "code",
      "source": [
        "# Recorder Helper\n",
        "\n",
        "import imageio.v2 as imageio\n",
        "import numpy as np, torch\n",
        "\n",
        "def record_clip(env_id, policy_net, eps=1.0, target_seconds=12, save_fps=15,\n",
        "                slow_factor=2, out_path=\"video.webm\", seed=0, max_episodes=6):\n",
        "\n",
        "    target_frames = int(target_seconds * save_fps)\n",
        "    frames = []\n",
        "    env = make_env(env_id, n_steps=4, render_mode=\"rgb_array\")\n",
        "    dev = next(policy_net.parameters()).device\n",
        "    rng = np.random.RandomState(seed)\n",
        "\n",
        "    episodes = 0\n",
        "    while len(frames) < target_frames and episodes < max_episodes:\n",
        "        s, _ = env.reset(seed=int(rng.randint(0, 1_000_000)))\n",
        "        done = trunc = False\n",
        "        while not (done or trunc) and len(frames) < target_frames:\n",
        "            if rng.rand() < eps:\n",
        "                a = env.action_space.sample()\n",
        "            else:\n",
        "                with torch.no_grad():\n",
        "                    sv = torch.as_tensor(s, device=dev).unsqueeze(0)\n",
        "                    q = policy_net(sv)\n",
        "                    a = int(torch.argmax(q, dim=1).item())\n",
        "            ns, r, done, trunc, _ = env.step(a)\n",
        "            frame = env.render()\n",
        "            # duplicate frames to slow apparent motion\n",
        "            frames.extend([frame] * slow_factor)\n",
        "            s = ns\n",
        "        episodes += 1\n",
        "\n",
        "    if not frames:\n",
        "        raise RuntimeError(\"No frames recorded.\")\n",
        "    # trim/pad to exact length\n",
        "    frames = frames[:target_frames] if len(frames) >= target_frames else frames + [frames[-1]]*(target_frames-len(frames))\n",
        "\n",
        "    # save as webm (vp9 + opus by default)\n",
        "    imageio.mimsave(out_path, frames, fps=save_fps, format=\"ffmpeg\", codec=\"libvpx-vp9\")\n",
        "    env.close()\n",
        "    print(f\"Saved {out_path} — {len(frames)/save_fps:.1f}s at {save_fps} fps (slow_factor={slow_factor})\")\n"
      ],
      "metadata": {
        "id": "sStsmKKhqCzo"
      },
      "execution_count": 70,
      "outputs": []
    },
    {
      "cell_type": "code",
      "source": [
        "# Make the videos\n",
        "\n",
        "# Early: fresh net\n",
        "tmp_env = make_env(DEFAULT_ENV_NAME, render_mode=\"rgb_array\")\n",
        "tmp_net = DQN(tmp_env.observation_space.shape, tmp_env.action_space.n).to(next(net.parameters()).device)\n",
        "tmp_env.close()\n",
        "\n",
        "import os\n",
        "os.makedirs(\"videos\", exist_ok=True)\n",
        "\n",
        "record_clip(DEFAULT_ENV_NAME, tmp_net, eps=1.0,  target_seconds=30, save_fps=15, slow_factor=2,\n",
        "            out_path=\"videos/early_breakout.webm\", seed=0)\n",
        "\n",
        "# Later: trained net\n",
        "record_clip(DEFAULT_ENV_NAME, net,     eps=0.01, target_seconds=30, save_fps=15, slow_factor=2,\n",
        "            out_path=\"videos/later_breakout.webm\", seed=1)\n"
      ],
      "metadata": {
        "colab": {
          "base_uri": "https://localhost:8080/"
        },
        "id": "blZyrz5BsDQy",
        "outputId": "ac066106-1dea-4920-caeb-0a38dd9671d6"
      },
      "execution_count": 71,
      "outputs": [
        {
          "output_type": "stream",
          "name": "stdout",
          "text": [
            "Creating environment ALE/MsPacman-v5\n",
            "Creating environment ALE/MsPacman-v5\n"
          ]
        },
        {
          "output_type": "stream",
          "name": "stderr",
          "text": [
            "WARNING:imageio_ffmpeg:IMAGEIO FFMPEG_WRITER WARNING: input image is not divisible by macro_block_size=16, resizing from (160, 210) to (160, 224) to ensure video compatibility with most codecs and players. To prevent resizing, make your input image divisible by the macro_block_size or set the macro_block_size to 1 (risking incompatibility).\n"
          ]
        },
        {
          "output_type": "stream",
          "name": "stdout",
          "text": [
            "Saved videos/early_breakout.webm — 10.0s at 15 fps (slow_factor=2)\n",
            "Creating environment ALE/MsPacman-v5\n"
          ]
        },
        {
          "output_type": "stream",
          "name": "stderr",
          "text": [
            "WARNING:imageio_ffmpeg:IMAGEIO FFMPEG_WRITER WARNING: input image is not divisible by macro_block_size=16, resizing from (160, 210) to (160, 224) to ensure video compatibility with most codecs and players. To prevent resizing, make your input image divisible by the macro_block_size or set the macro_block_size to 1 (risking incompatibility).\n"
          ]
        },
        {
          "output_type": "stream",
          "name": "stdout",
          "text": [
            "Saved videos/later_breakout.webm — 10.0s at 15 fps (slow_factor=2)\n"
          ]
        }
      ]
    },
    {
      "cell_type": "code",
      "source": [
        "from IPython.display import Video, display\n",
        "\n",
        "display(Video(\"videos/early_breakout.webm\", embed=True, width=480))\n",
        "display(Video(\"videos/later_breakout.webm\", embed=True, width=480))"
      ],
      "metadata": {
        "colab": {
          "base_uri": "https://localhost:8080/",
          "height": 1000
        },
        "id": "asoSLqsRtvTp",
        "outputId": "63270015-a832-41e7-ad23-c5658662e98a"
      },
      "execution_count": 72,
      "outputs": [
        {
          "output_type": "display_data",
          "data": {
            "text/plain": [
              "<IPython.core.display.Video object>"
            ],
            "text/html": [
              "<video controls  width=\"480\" >\n",
              " <source src=\"data:video/webm;base64,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\" type=\"video/webm\">\n",
              " Your browser does not support the video tag.\n",
              " </video>"
            ]
          },
          "metadata": {}
        },
        {
          "output_type": "display_data",
          "data": {
            "text/plain": [
              "<IPython.core.display.Video object>"
            ],
            "text/html": [
              "<video controls  width=\"480\" >\n",
              " <source src=\"data:video/webm;base64,GkXfo59ChoEBQveBAULygQRC84EIQoKEd2VibUKHgQJChYECGFOAZwEAAAAAAH8iEU2bdLpNu4tTq4QVSalmU6yBoU27i1OrhBZUrmtTrIHWTbuMU6uEElTDZ1OsggEcTbuMU6uEHFO7a1Osgn767AEAAAAAAABZAAAAAAAAAAAAAAAAAAAAAAAAAAAAAAAAAAAAAAAAAAAAAAAAAAAAAAAAAAAAAAAAAAAAAAAAAAAAAAAAAAAAAAAAAAAAAAAAAAAAAAAAAAAAAAAAAAAAAAAVSalmsCrXsYMPQkBNgIxMYXZmNjEuMS4xMDBXQYxMYXZmNjEuMS4xMDBEiYhAw4gAAAAAABZUrmvBrgEAAAAAAAA414EBc8WIygB6QMdd2NmcgQAitZyDdW5kiIEAhoVWX1ZQOYOBASPjg4QD+UCq4ImwgaC6geCagQISVMNn/nNzn2PAgGfImUWjh0VOQ09ERVJEh4xMYXZmNjEuMS4xMDBzc9ljwItjxYjKAHpAx13Y2WfIpEWjh0VOQ09ERVJEh5dMYXZjNjEuMy4xMDAgbGlidnB4LXZwOWfIoUWjiERVUkFUSU9ORIeTMDA6MDA6MTAuMDAwMDAwMDAwAB9DtnV9Z+eBAKNcT4EAAICCSYNCAAnwDfYAOCQcGEoACWB/2aN7/7/6fyf+o/L2z8/bfXfH/N8j/T+g9P4r6H9nqvhf7fqf1fq+b+r8/8H6P3cw8q/X0TRZEv7N8n130X85/aH/Y94+09v7r13xvh9g+T1T2n7f6jenWvNs/0p7T4e/eqeu6j2b5nxuB9X9vwPyc9Rqz3vtPddg/cvV+96pu7JPVPder9j673vr2Nnp+ofYwANmgAB/srE0/xVJTwNKP/5gfwageHhCjjMhiterD2g/8NYJ0hBerW2k2tliPHs5lQOWmqnaopyov/2dcYhHoh9up15fcliysKBvrleiQkx94kVmpYXPKjynH46ERs59tJPIdk6hcBr9U2lCXtvuZV3sJ+KgZjF3rmbwIhiqxzZqYY5hBeCudCyoEkfnINguhOhLVr7Y2C3SmHkGRGFjkyIZtyQC47jB9Aqy9mUI1LZyXjVz1OG646KWLHzXnvpw1A/ovmOr5uyvw0H57DE6vlsIiNnPt/6pRwmcW+khtjIA04NICdjn6uBpR//MEIAhjIwatTeeFAwK/t4o86iy81ZZKoLLZxsy/N595Arf8ZbNDg1WlEtFu+23Pc5t16s1LB0akMHmA7W5ZrtEQsSYAhlMGkKO3eyslLRZarGzL83n3kCt/xls0ODbcp3/7Ov02i05svHdNAmwH4Kx7C9Jb1RKh0dUjV4PS5wsPrAJnAhFZiT71htrp3tmBOE0Bflnudccruk4kwaI3PgflbzevEBb9rtHNZE6PpecNYLPaThTLIIwR1Swrw6u36TMantmNGoXQfCxJsKK6wfjYZfn8jH8oLQ5go1/mJAYi3ezbm4JU2c1P4P2xgLh2R4IHLbqK15FGKXehCwvPCJWjFhmCpmcNmYTu+RijTehEdyU9t+RQITt6/sXvs/sg+pqGS1Bfi2IL+vA1GX8K8ksYoi3diV/pqkifEZIhUx55av2TKdjkiEJ6m2lRp1jSWUwvwGy/IYQeHqFIRbmfbcVuF8PGaa1iXk6QZ/6FiFofvrZLymAj+SA/KcRPJgZa9wbl5p9dY1JxAUwV6sAYb7Vvc3maxfNVtDR4GA/PrpSeDa+ZCPfODgtXcVrasMnCKW1ARvUI2dva7/yW14Res4cWa7EuIXEz1SwI3auFImPjU4Y6MQxSzvXdk9yDMnY0fRvICEmmnW3tw0rVvXUMSWeSbXrQvr/x4VOmU8Xq6ttABzqfeEWXKVRExzjZbh2Bf3qJShRZ2c6R44L7f4oKj5Td7j7g394bEWS1y41rF6vjjAHpKuY8DP9FXN7j9UQBMRqLGumhMJHSntQJBmdv1HTxadrh65BKdhU0IhqkifEZIjHfGrweqwtpMCAAGmQ7Nqc94s1xQtT69Ndu4afBiJnZmbFsPEodLmN6QcjBA+HAtA2KYHeaC3lxc2W1AygI/5P5McMLWqYuolQIk2zt7Xf+S4LRvySV/uGbROPzA05RMfGpwx0NUGbb4P2EO5N0yvJt9PKOnfag5umrdEaBYDwAh9S8soPtu0ic01p/eTRwRX1e6MBaadTIgQtyIKkz1SwI3auFImPjU4Y6NAxoGj+/dmP/coQ/yBMRZ1BDK6kipucfjoRGzn2/9Uo4TN3r+Aypx2SpNKoLLVvaSydJTsK2wAJ3A+I65lJt9zKrKuNRav19zC5Ze/B1PCNR/dRIrc6eyeaib1nnWCmvTJJ36BjunjfXRZU7JWFsQ5jH6+mYHZcPE1k0dcXvxpj2S4KCQ7fcyqxPBWjUVg57AvkhViCofWMNKOAFHqObOro5voYZ5NIA1jaWEq86jhM+0kHtUViXco1ObuhV59Hxo4wfb7mVW/xYbm7HJEYmQD32+oAKsASD073W6pYgQY1wBzfFP+F678gcWTZ+H4jkx1W+H3M0p3Xv1fkd9kUu/Vm/agDzY37/6oQbKj90uGTpuw5Y4cbcJAPFxuNcsAzfbsQy/OBmpXADzK93RFqbJ/FXkPbUPJ9j3aZ3v4CEGqsgrCrhhf23x5VS7mUbWimtlQylCBq8Hpc4WIZH7P1+4uV2fMJU86Tg69N8IxCtsDtAnzV1j81Esz9NnyqnXYcGykr/zUR+KTDP+go+7e2VFcETptWd43eqUDTmpx9gkk1MJwSfQUfdvZcF+8Xo5DJGcIM16Re17pEFdBfYj/DC2atvBjsIzMHzNpUikIwMm/Lm8hbcVJdPkMyZfGarhitBPuJ/dhQvDOeO88tX7I7swG2XVpSIHwFypeyfEXZsBSKkePOj7ES0Q/ogYiDPEd+H4xo5SBClkYZqqw0EOKqMt9ag+MKdDUDnBL8pb4L95nov/TNU2TAXKcsqu2qsBlpWB0Fsl7oBlAURgw6AG/8y3cEIg9uOw13bsADaBvsFQRKU6PQQyaNv94bi5BLo84+fNK58EkYT+rFKABNh/sv9JB5Wj+ygTCjwc/mIishHtG1wS/oxJ2/Nq83i1c00onx+L/tntLYJKRY+E6utiPXBncNo9PLKAV2uPXfn9t0DUFEzDa8r2MC1j5xprY8woOktqX2+eWr9kRTmqKqE4A8GhLEcCr4frV+jeTEtLZYVak/NYtg1WaT3GZqKNuzquZRTtlhjuchli12bhUiL7W1HBdc2FZv+n/DC2awRZ5XfYYbJv8qzSo6RFxNadb7e/UdPGPSHuuYdoeuoSHgztJP8gnWsRzQPV4xfgbSCWoC8EkmjhbGZteK2hYtUarys2WGO5ymh6LYeZ/dtTQBMUICaLTqTTpcfrhQE+FRVaPuWAZPrpSq+QuLPvWshOWfkWnfvYVkcoeBUzPjfZSOswn2PIKKHK/3mGYtNXjv3sKyOUO4LzPKN2HFY4d3fnqRxG80pDt25doW2KSO3wMOWU796ofaAOaYoIlzR0TYuBo499z6VD7zxKVzzgtXDApjlmFg3aunqBsazEG4hAIFnGg3XaqKl0LJ9qZi9hJnaSQMaM/DIkVurHhVeX/b/M6ghmUErfcysHKthMQnOuHiow8YFjheANH6FJ8p4kvEmHM4M3cUznRPZYFkp96HC0HtUVhsjSTgv+O4LRydVFC9mrsW8kZF/Kpov6dRGTOQdR+DPEK6aQ3vhZxk1fWFUChnnXDxUYeMCxwvAGj9BRew92xzB5CFzxBEiqxoa12YT5tjA/IRJyqkidomu3iQWfDHCJl5DZpeTCxkvC3ZrdTKaiwItMVn6blo8Xtf0JN4YyqPuNl5g+1Ez2QTzy1fsmU7HhXc3zjz5eGlXYGEl2ClAXb2136jp4tFFduQCK7wLknDUH+QRFx+CpT+GFs1gizyu+ww2Tf5VmlR0iLia08KnWWGO5xZx6LYeZ/dtTQBMUDs2lCN3MUqQyiwq1J+axbBqs0nuMzUUbdnVeXsWDiKc+ifP13OOQeeqeVNlAQX7kdGxT8LY1e+3ktDxbn5cRI7IO8xppTIhJ5KJdOn5wy+yq6Og/boQHRf+me8zQuU++ZQIYwizvBZV3PCgJ8Kiq0fcsAyfXSlV8hcWfetZCIGkjwCmuIqW+C/bdA1BRTtAEJvA48BGtp3C0HAgwvYUpKuph2ZO/eLEGf/rJA+fNCGwAbZyWer6A3EBrrKHSJ+cyrHIH/yfDmBPAn7tC1QqvqJWVGVlxJL2/bpcFtuKQP7vJZ4loMfkqYPjOQyfznxJhjal5A67Y11Zgwjt7CRqTXz/XpVBZa/vkydJTsKi+nAmDOjfJLCQRJANafWKsqV/6dkv0V74v+vY//o2Gq3hU/91XgpnJSn1Kb3HYbSccPEPFTv0ECgRHElF9/mmz4VacP7uZq8fTMbXBvielzhYeXTw9Wy6luvMtlDJ7qIJiw2JQJKJ5Dp/FFrdwUPiAqmpFs48N8cPF0tTlPq0V1l0coaCC4RLeO9nwQ4UXAsqTH/Tb4CXlmaPOn3v9G6INc4nsJ1NMVmftDeXIurYYAtZxk06XMM3gba5S7ntRF8kBLgAO+9CY+x7tM57NpzCuTdcEm2V02DflYMdh6sfz2npc4WHyvsf4JLdcEntCDvgpLwY324soxwwp7Hu0znrrQxgM1JKFlzg8hbsSwpEGKNDuHfoIFAb7pnO2YxXnrV5BNRelb1AgdmxPOPKREOwOgolIKgKoAjnhVx0NuA/p3bVIUcKVt/af1ztrsv+t3rDInmemxXpYY7m4e7g0RXw95TslqtKZUYLA9JMejeQEJNPsZ4MQtLiJMqKtzlSZaYYw8dKSyqDZrihan1NHHqWPee7JUJaeC/5j67Mzr/yoelYElh7dvjG1DnFoxyusMlqC/iQ/PKfhdE3rgk/ltHBt61yrbUkAH0w030fikoqbPJZ7SKM5gkXi2f2IQBpsyS72e9VP1yZ87BmhAVXriTUzA55QswmOgrocDOjS/E6J5V/rVf4jMpdHpzpBjIpRrvjXTuMvjzyTDwgHC0BSqbiMiJ32SW+NdO60l1oCqk5h7YQJc0yKba/1yVC3Er2hH71Joe6hg8PUKNB237sBRzCGmcz69xy2so6b+9RKUKLOznSPHBfbUPGf/kkMk1TCiT0OEv6iSeDhMFHk2s6KDNSgD6wpJYmRWV+dZtpKQ+ROe2EQQwlcpuw+6tuCUHEMDLTNFUDYBBDdK39p24BeNU9q2LlphufQ+Sv8usMHWIrqW+vsWoOi/9M1SplsXUsN/vqxoGj+/djdF4M9ip6XXdlaiogclyCmey97bd0EOjEw7EVWW8/AXcOW1x2RlDPN/6mBFHiUbqoM6bznW58WYpyfp/qUFHfu2+tPH8nv8pb+5T3tNvadCpKdjDHyV3JGdeHULpS9WdczBmnvYySe76ly+obz3jx6/ejpQC6A920rnYPn17m95oReEJzjw7PkS0qXV53rZ3vffIfDLTBsfy+mcYriiwXw7RzKcS/y/qcvqabtGP7tNPUrOXFQoQqruZ7VwGp4tFBGLdxk8HcqB6k3lCWeJ7QQxoUTwh//u0v7BOaETCbO6Msucb+g3aF5fBTI0EfZ3n7TDh97LCcdACiPNAxkK1Zpfh9zR6+z8fJE5O69+rW/7krVpleKUBQkHp3uoavkSw5nHHQaSFeQQIncR6Hm6wIe06Y3PZtrCTe3aH6BOaKfKyACghJpSix39dwyTlyQXv0ECgkvVG6Ye9elez3ohvk3XDN7KscxE9LnCxBs+Jj+4qhDEx5wv4G9Bi2wZq3zlWCwJ9O9Br+YXLRQARsfd1VzIkDEtvNC2pg0Nq25l+x7tM7wBgrFF6VugL/5Jpv0xJQs8J65ox9j3aZ4l5QaGfZkFYau78bfmV3NFK+Db3dqIWxAhEIqLEx2KEUZ2dLAyzayqtlehUsXcFT+sw/rQ2hhTgmgMJ/okiMA6wNTD+UR12f/2gW/R76ofAir7urbK1P8x5T2YHVTD/l4JK3K9HF+5O8CmQX1B9PeolKF/oKARiOR45lXZNtz/RyMvJsuN/k6QW+wDd4tSFYwdfQlQaG8v9DKRFvEFK6435su1fiU/qBEioQX3B2OK4BZERapfqCFWcIoTkB1YJ+z7Y6zbiq5PTqEmnSKyfOP+CQtUBLYa1SklAuO09NnqYDkVzSK6K07nkmHhpec/xm8MYRd0vVD80PJmuKQ1p9PygJR7N2VvnT/+SkPlg/PKfhesbfENK39U7sC8eCcVmtofyOXt1fomt3vGwTNm2MT9cmfOwZoQFV64k1L+bGgaP792W2UAjb4QDWnjS3Ag2IH/tg8y/aBjUlBz+tgjAH8ZcGTmGJD14ETvpcE7boKqqBTICdHx678/wt/4XomKF7NHRNi5bLw0aO4NAPft4MDP9FXbbR/YuutIYe4rumUbsSOm3TbvIOPXMSEpsIWLYUei2Hmf3bzNMygJvmK2BoSmVvinBd2zmDrYSEzopvks/TLvyWkQHSWWGzpQCTRTar/WrDU76rrvjXTt/DMzXnq0miVkNweHqFxsVKNd8a6d0TJqYH9D9C/6s55T8Lgwim7axygTTLTCyzt7tmpfELBFdFCkJISp/uJU0SdmglziKYN+Nn9hDRlvKosn1f9+otZNXmViEXzuBNWxEbxVgzVGLHDyhGYKX4B8JDgHfB+3QjCD+THMrPHIQcv6S9CXLTSTQWhfw+8mSearV0M+MoaIKSlfQ8Sw3pUfuckKo2viUYeMIA/BfdWfdlwSWcac0aOfTC0Hdcqj4YMAVKctrzt/TQfXi4cgfNFJ20uh5R64Glg+Z4HembERNLTDbMp6bErdQOL5oXJ3ZxN8lZL9gpAmY8FvY92md+5PQY/mlitmlVIj9wAx++wo70nB79BAoHNWMXgQBXOFyWa8eTnnr0MNECojlF9tDitHIwaWEoASjpIsqpGxHypf/nX++j/wBfk2QFxWz3cJMmJaWw+vi8OrxvZiZ+Sjus822NJYuqfg7mmsj6bEdTAR/I/j43lhjucf4VLhG2za9mzsrK5mqxR4pdiX2WvKWAmr8Xs2k2EYF+YdtRw91R3x4thYTUZ3L7pPDyWmqc4JbFCHFi2EWVzY8p5a84pgj+G9pTDTdu6mENF/6Z7zNC5T75lAhjCLO8FlXdLU9uAXjW08p6HYYLLz6j7sdXurhCURaxaz8SZKGII4BBVC3G1gNlUIOR5zZ4DmXmFhUhk326WmvfcDzW2pz/dVv3RhcJ7b+N5vn63PGkCe0ib/9nXLNgRtHU8nVl/U6nnEbbpqzAZGa7RGJVntIEr9Vx82ftTmyhTEdHFXIrct8raz8SMzLNwb4b9qdp888mnBbz58Rb3Fo1R6cjdJhG78ay0YuPvCRiY+R4UVGQfIYYhItiJPinoVc24rm4YdvZ+YpXN3OAHgr8gGCNyD4/Aj+Xm3sbHE/TB8LDy6Gmc+rIf2PXOw0ZT4A2kcRWPP2lnegVZi6C3Yc9aNhVVFsnp2phFdj9d2CKX2SHjeK4EjgczXuGYsuOnV9srv4EA6DC3IFgifgEYL99EeFFVAlk4RulC7Ynou9nXtIa4/ubZkOAn8BUVMw2FTDPSWCGifV2Q4l3P2PdpnR6iXySKYx9fKCJiB85q8e6m/Z7xuXiAwg/ZxrxD1zIyawZ/fgkg2BlixDPD/+yN6C+/QQKBEcSUX3+abPhVpw/u5mrx9iRABt9+ggUBbABXYadH3WuIbn8/3K5YLie7LM8afknTcIGpEpP4uExX9GRWxRl70bX9NhCxXvZPVsQ4EmYB7PuNlixG4D64vhEDP3KaFA/5W+KcF3bOYOlMvwttsn1m69TYIdXLGcm5vi71EpQpIstC1FlfRmZS+V9rsi25uh3MVUnc822GrTR6q8h64R6/M/FXdiQuhCXmBeAzJaKdCCfDoyc3UaqSMeAbKOyI+0xrpLl7eZ26wlvUb+0H2GqtSuZjOgwRfwnD4WVNwgzISgCtBCf/H6wk4x/h1kH503mSW/D0S0FpvdbRzQEgfDHgcnTW8+Oc0CexT9zIdMdh89ua/WOLaRTbVDLvP3zvttNampyRLSgUxwIwLoeAMZ0Vfgk4Y82MBcOyPBPFkp+zJ3fa+KE99a/a7JHIknnV9YEeUILTYQsVPT/MWBuUeO/x0qGiMfp2Oz/+0C36euqHwIrHvf55Wp/mPKezA6qYf8u+zHIVbK1EkaluKFqfOEbQIaRllwCZnGwdBnWstWOwiMhVbR7df7MvAaQCFe+/NRsn3koJL4K2EcpN70n1Xac764ZtdGNMXQrFIEt/3s2Gy6aip3wHqYFWX+Gn13laypyHChGUKgAAidmU0rVFYZJIZtDxT6B2zaLUmL0ja6CBnusz0Ne7MKvbjRcqMIFxxU2vdKoLLX/Iqt5q8vsmVcmDOjfJFAVb/9nXaNotObDCKft4k7R572hIjt6olRlV75jCcx/G4mX+6RB7pOqBSete9fDwfHhjDhdKx8Uo8Qd8n+WX9wj29uOgRqmPbNFjPONfszQx9uxDMMYHBR1Bj+E7MsiE89hFgceVw059j3aZ0PgD29FL7YxCdcPdmrxbdY0XKAmNfxgfS03/KgXncWGp/mKVzeT0VKzR3oM/hateNuTZThWxwf8tqQi4vMC1CHfoGZFWNjZFnRcEMxREvsmd2uYRJzy2iOc3xgEf/w8gR4G9qWWLIJNQJThgL21+PhcKZ7lr5QtxNe1Gzn4BKxsbIs6LghmKIl2mWOlliyCbakOCjqDH8m3KtLUnt5u4v7zntPS5wsQbPiY/uKoQxMecL+Bx7kAUvcql3P2PdpneEY6+dE5y0Z09zPP9pBaxFvBUHyfT8UWwzyy/KU0Qg8NV0csqi1U3O58VgKYp8+d36CBQThCR86iFigZk7IbEJ7rhnUTG6nkWxgKWO/zMC4wV6N2CHevMBfCN7vDaZMF74EDDasULzIDVUBH71KQI4IFy3/hsR9HsZ1MCbRVWzQBkUKElv9EoG/zRPP3/lb4pwXds5g6RdLRp6RlHj3YM2+pm4/AAK7gWUbCBLmnv3rIZbcatslhefhYsGd0sTnkmHh88v5UUC25ZLqIaDMOhQoZJdssMdzj/CpcI22bXs2dlZXM1WKCxW/GcOiiX1GiL365TsWP0sdIHsOGiSr69UPgRY4wsJgy54E/i2ABSmHtD7Yw/Y0xnUwKJW80Ln0MYRuBKOtnbPQf5h+wbLh2R4LJ/YjV/kJ4rdpoYUngBL4tovUSlDOIya9MLwJJAmlHitR6LcGarZPJMPDb4KAL53b+DESIhPV10VlBLnC+r5hgLXCAnsNtD7j7v9zU87Tf5ck8OVsCKL0F3Nvjawy/ZTjYfFzczo/pxYpFyRC61gPBX49LOr/HUHcnZdS506vwfeaWFSzl2ZLXIEsQxMgp8SxuD4aazLoRC9YnjuuXTwAgS8weufGlbci8jHuypeucE1XbL608vEa5L0ja6CBnuqFMfTPq9zaHRM6v8dQdydhlqWaXv6VSZuKfndqnegPgQf1JwxWGFikTEozzBJmj6qjlrh5DKcpJfHgs2o7cRGYMcepNWpMQQpDqsD9/iLssMt/b6XfoIFBCrncf24XSPfdN6SQTOr0vwtwi/tBhi+6rxfLpO3BXsPjLs/DZHFpYTNOH4nnV7b6SnYJAdoFv09dUPgRaNRhx4TsFmEBKX0glNqeVsYfsaYzqYFI5G/nERj9O4VIDSeobOoGPT9l+NVWg2InMgWAueVKbwMcd8uS4trw0DGm4oWp/mymLI0ZAwpSfKcPqG1DiFKnW8ZiGxxUi/hCdqhOuJrhR98tRycYkvQ63n0QXPNV+E8TLn/ho0hxODLTIMxZC23fn7BLS0BHZE4aYtRyMmiOkI9HpJ5bktbXr8Gggm+KoaqFtoTtierca4ZMDGf+64YV8RTsymkY4iRozJB9wVWhxc3dCT/48/QdAehiSF/j6aEAjsBcnW5iYZ236pARDxeehqwdPZLwrvFERf9zWwAjApKbDSN6P/hXLyMyhNA/m9/7X9hhCgzcf72gkBOC6xj1J1LiAFk1/MFSsR9/TnKViozATm4RopsEYX+niVhNknO8ENn2nW81h0q15jUEiVqQgtuYX6b6OQBn2QgDGHcbt2krGf8bxsDtpbV6GwZhr0vWFVpyLzPH/7z7MGVVZ9UYsfl0iDiW1zbuOWN1uDH9L2g9FkpjnayyBVn5EdeNw+M58QfTMe/Igpd4CgGv6W2i99/L7lXzu5+xP7+29Mzx+Ar4lEgAnE0wJkf8ip6EnN6Ao5eBAEMAhgBAkpwAUAAAAyAAAGfmfxegMKPzgQCFAIYAQJKcBE7gAAVwq/AAAGpScfmIsv8iy5+lidZ76TcRDcp5+jJCC2KbWPw6M95VdLsWn+z+b38KaFoL9/XVfV4Sh6/FP9kvPXmCYFZxVqI+SYRfkQj0VaVfzO8zFMSFdUpxqycUKP4T5mFwh3bcUqOWgQDIAIYAQJKcAFAAAAMgAABo+X5KUKO3gQELAIYAQJKcBE1AAAMAAABp2K/x78+a5DP7BwyqxXW26XG1lHxB5d86kT65Wk6cdEnjHEZ9QKOWgQFNAIYAQJKcAFAAAAMgAABo+X5KUKPfgQGQAIYAQJKcBE7gAANwAABqUnH5iLL/IsufpYnWe+k3EQ3KefoyQgtim1j8OjPeVWj/3gdpSaMP1eV/h4TH0jc3wGbDUPfm12PzZfOJj5beNGO6jy3qic9jJrEf7OqjloEB0wCGAECSnABQAAADIAAAaPl+SlCjl4ECFQCGAECSnABKIAADIAAAbGXXblugo5aBAlgAhgBAkpwAUAAAAyAAAGj5fkpQo0CZgQKbAIYAwJKcAEogAAMAAABqUnKG7xPcioJ//pZlshKw9kXDzSGV5pnfu7caBe8UeuFbojEH9GnOvo6oVSKPpgwiNBKxDrazWraF324Iwq+O8MHbGGufV6AVexXjr0jXhtXbI+ynCaSpT7YTXmXO72XnTFz9ni5y3cKrR/+7G9yiSGaWfx6x6GpURuA63MKch/1SjVF4qroAo5aBAt0AhgBAkpwAUAAAAyAAAGj5fkpQo7SBAyAAhgBAkpwETUAAAwAAAGnpmri1c6bWjIzuuPFtHOD4mCNBhStROnsWUCv1LK7ixt/go5aBA2MAhgBAkpwAUAAAAyAAAGj5fkpQo7KBA6UAhgBAkpwETuAAAyAAAGnYsBLu+cy+LIf+HqpORTwbz5J48DtQFbs0WGRvT98UgKOWgQPoAIYAQJKcAFAAAAMgAABo+X5KUKOXgQQrAIYAQJKcAEogAAMgAABp6YTNTRCjloEEbQCGAECSnABQAAADIAAAaPl+SlCjl4EEsACGAECSnABO4AADIAAAadiRIjywo5aBBPMAhgBAkpwAUAAAAyAAAGj5fkpQo8GBBTUAhgDAkpwESiAAAyAAAGnpmtDECXfEoL+dKGg63Z1tz+5QxcDO58zR7OdehBINUwutTwR02ZrSH+guOHuuYKOWgQV4AIYAQJKcAFAAAAMgAABo+X5KUKPfgQW7AIYAQJKcBE7gAANwAABqUnH5iLL/IsufpYnWe+k3EQ3KefoyQgtim1j8OjPeVWj/tdb6RwmUgYX/8PCY+mTuUztfu71mngOPNdqB3umhRQTSbCGGglZg2j96ZCCjloEF/QCGAECSnABQAAADIAAAaPl+SlCjmYEGQACGAECSnARKIAADIAAAadigzfQawACjloEGgwCGAECSnABQAAADIAAAaPl+SlCjzoEGxQCGAECSnABO4AADAAAAalJyhusv8iy5+lidZ76YrTx7aMPWjNsq4VIAojEIARw6OzTl5qYrZ6G4ORjzXagD6rUJePrsp4NEg4oeWKOWgQcIAIYAQJKcAFAAAAMgAABo+X5KUKOXgQdLAIYAQJKcAE1AAAMgAABp2JEiPLCjloEHjQCGAECSnABQAAADIAAAaPl+SlCjQMSBB9AAhgDAkpwESiAACXaGXvk+rAAAAGpSrqvEHmIKbyE6sGuhf5U0tvHdmSJEIxsPfTA89htA7ppkSq4y3+Q/j6/+dF5Psyb7emxP+d6BJDZFsxRnOy0u+9G4pIf9I/JHW9fiGb4fvPbRiV1i7r1/Diy3UZRLMacLQIS49+IQkG5AQ3vpUn6Me0Kx7vKLQNPogcX9dEpVAGIuHHqs+aoL9TJFUHl5Pn46DQvreGlXsftyKIYCg29gkisHGJh6OcrDdyM4o5aBCBMAhgBAkpwAUAAAAyAAAGj5fkpQo0FXgQhVAIYAQJKcCEogAAl3d908AAlzwABuyC66nDruIRuBrDucsQMi19Wtjf1KgxhBo3HhiKWCRV6wYTD4DGKGgR+fjZuV5/3RZ4Gglg+Ryk+7Oq4n27/Og3lZSSOp8CW8u9zCXecax9obMDndc796ZBtiyhbUH7b6HjFXa4vL/Bk/2o6dIeUjAbNaG2cEY2+7NJUwGroBD+Z4JE1Moku8ghunztAezM9ixPiAPMqy4U+xKEkGgHJ7ZqvP/iKrnXs7IkVjnRn73NOqG8JtKBoXv1tvDhNtcspk4SMl4wz5xgFTmRZmgs5QMXgkR0///iYkpawlnJNSiQT/JBzTGgVj5t3EzbBAFg6E2CarmTa70HhJjmzBlFZIGNzrB619ZVdRTG7ADP/+gEHE8wTGVyNi5qlTFW4Jdarx/vRSzLNJPbeaOf2r8Ce5f0nCwvs22nQb8O+c3qlXgKOWgQiYAIYAQJKcBFAAAAMgAABo+X5KUKNA64EI2wCGAECSnARO4AADcAAAalKwKmV7YrPXy1i6RiNRHy2f99d6kSo22//e8CfdtQGvvMprYM0onaVslf8hW1vTqjMwNuw/z2NOwYeHHtMzhdJGepm30Oc9hDdRH5GA4DDKqrVvjuZAv3gNlFWu03biWmP2Mz+7ko3WwAEwLYrkE4WPn/LNaFGmNnr8AlwdRDGH9EfFYTfN0fDdQAA9gfvAUbWhQftZTkLRl7RMu5DagobXt+N+5lo1GLSCsJl1i+E7VrJbdlpV92/qCNw8r9rka8oB7bhcTpiT4J+HzEtu0c3oiD2fJ39r0gCjloEJHQCGAECSnARQAAADIAAAaPl+SlCjQRGBCWAAhgBAkpwETUAAA3AAAHtwB8TC6XLMDGqFy9FlBxaaVrPCCAkq1PKnuBG9/cwcJp2EA9rWaae5WcBxgllp9EJPlPnNSNZOjtKUr2LufdXM0B7Mv+6VB5rtM5+OkCSsPODyoj75yzMi5rDvH+KOa7GB7mV+NHFMoT9EiyBGpjEt9JrWf0UmKjKXD8t+58MEF3LkvoNG/6CaOOxrBgz00tGh4WATAubU2lhGCyHMOtdV3kp/SYSjtVe0Q2tlYVN4WbaJBQBq16v8L8CKyUy/WBLNAV6uWiZo5iWnQLqlCgV/j7HmpD++Pe8Cty+c5LSQqD8lgrMLeLyp7ySmczKzf/KZcbvNs184CEq+LhR3gkCjloEJowCGAECSrARQAAADIAAAaPl+SlCjQQCBCeUAhgBAkqwETuAAA3AAAHtwCx9Dw1HYHeU9YrOpSFyUg2gMzAXPenyS2g2EoMjy2QRdxIZEN20iFGwtITE0Dm78iVBUJjQW9VWxx7pFIP8b6ZFi3j49EKR7nCBDZUxzeS9EwMYt+q8WYbLAtTUh8GxFex+GSlJjmgjcSmSrgoeXWiinGEWkkTkBPepZ77jFM9YmOEiaQNU4uYPw1E7+E6oMD3pnXPn50fBzGt+QY6/tRmRsN9fds/sOnpQG5oYmU6jIzHmBDXQSYGoc4Kvbq00A0j8Bh4o+ptbqixT2RxXzsPmHVK+XkkYiZJBotnCGOKOy81ukj9zKJH/wxBWgo5aBCigAhgBAkpwEUAAAAyAAAGj5fkpQo0EigQprAIYAwJKcCEogAANwAABuyDreZBhoa+bsR5OthMV/GOm30j+VwThqsvYLn0Dy7sddg6bsRT8QmQIBXWSxiGvLbkxVxw0pUQfr3+89cmsVZNOWqBGQOZh3XES9/Y5B1K0FthXO+5otY/telZWhbGMLJPzPy1ESSJvmeZALL+XJJ8b/wxMB1hIZ6XJ9RuQ9gRBnAm7E96s0AITo6n71Z7H/4qCeWPvHh5cOyMnFCf6Dd8ASWITBqRRPSnim48bTlGqWkYOHC2wPFH/V38sCt+KSgdZr3kaErAx165EOyJl0tK8KEhH8mLiMER3jY2pcReZHL69hGVAkgZ5iMrFakHoN5S7EojgKgGjwjzfKYmshENF1hFld7+jEdMv+bJA8kUCjloEKrQCGAECSnARQAAADIAAAaPl+SlCjQT2BCvAAhgBAkpwETuAACX/jePoABtOAAH8jAWwZwNUzEh7DbQwzRD6lB9EOU7up7U5Xvvl1PRtEXmEvOhrTqEtrQ7WA3s6SSbBBb3kCaxhEwMW9hjzMX3xnR7eoOJuJjaUI5uPIGkA+5m/EbTv/T7uKNZsHLTMlxG9esTnzW7r9yav+mrZ8THCbK8aoeGRt17NFkrJFGfWsObH3WSVni4ML0x0nmzAVcra8+8L2MLPv6r9TrZhsKMYnBU8Vahh5VXbAD/pu4ZKSPYK+uO80YuDgizo+zoLujOEJslRvIpBJfsiDKPqjR0aK6zefJ916GQvc4TqYHxEsJXRP8lRAHbBCDfnHiDSI+2LEU5efChr6AQ0SkEHMK3IQd1afYLu91eEQGXbdjSfU+Gw+fvya8NPQYAPSYykIT1EHcWBcUKOWgQszAIYAQJKcBFAAAAMgAABo+X5KUKNA6YELdQCGAECSnAhNQAADcAAAfyLDswqybOxokNDFd7a1Vg55pObRr60kqxGEvj81DIu3XT0F0bA7q2515ZiGPTfBINSG4WsvnJVXDYlJY86djZeKA6hFpeOfc0jnbaO8R9KN/XBw1Nc9yQxjQXnyL7jB2g1ihCKRsZ0lUyEt7zf1awKZl7RmY9NAt5Pq5Ebaz26S0S57kmnHPWlU7GT7qLu4SJVWp196AkUJ4yzyQATHD4bPSaeL73+SFHkamw07FgkcJsPtuUtzlC0+gnV5oi0Di575MbUxtiCHlnYHATRg84jZMKGq32oAo5aBC7gAhgBAkpwEUAAAAyAAAGj5fkpQo0CrgQv7AIYAQJKcAE7gAAMAAAB/JIC+aDTAZE9fTmZ9FgSUnu24UL3M2PVot0YZ1ltH0/qoHz3ztL+kpRoIDy2Ru/CnvugRgBoCRiijPEEOza357/5V95U2p+zunUVpZfDG2kS0jSMjPccjuHC5oHBR5psb+dSiVinWEpzdsRRepZWdrPxpj+uaH4bEx1pUGyLQBzHtpZmMaK9brpFn/nDNXM9i/iCB07QJblWAo5aBDD0AhgBAkpwAUAAAAyAAAGj5fkpQo0DpgQyAAIYAQJKcCEogAANwAAB/JDKKsmZD0zkln1pN1uBfAMn3HP+uzXVirSl/ZZEFKcMZikHavAY+ePDE4pUr9UbtTYHj5YW48+nzygr1UwVKGDGdLQZltVhbiqOiaCiBNrca5vSi21keBepGvAOD6p4s1nO8wCf9i/Ep5mvpdbczdU5BZebTLSlcwVvfHu1q6PudiDx/sYk98qGslFqrn3QfQKOMhqCZw2zdlz8aE2ZS8Eo9xlVB+WbTlbrSQ9kEGL6vTKNgmWd0v2l0IVLZq93VdXm86sXSv9eNyhozvh/P6kHSWRKEkaSjloEMwwCGAECSnABQAAADIAAAaPl+SlCjQKyBDQUAhgDAkpwISiAAAwAAAH+zyn66mPnchIWguclyU73fJO4mnBiwJ1wp+HKQC8Cx2/2XFa+LGFWC5lHnZuD3G3KvVz2YOVOvd7jUvKNO3lq3dPaKs4Fg4zVBQOZsAB0IWdZKrLN3CNAg+sn5IFVo46PMAcGgeYn1Az6iSzo7p5qJqHQky1bDkaywc6+DPsEWxe3o8TttB5g+r3Ub8vT/wP9bXGLY2DwxjFFQo5aBDUgAhgBAkqwIUAAAAyAAAGj5fkpQo0E1gQ2LAIYAQJKsCE1AAANwAAB/O2R34pjZFtN9AhhhcnrK9Nm1KhSuyIXAl3lyCN0FSQARzovcWbTKA0u8WNcxeCRhSIXYgPjpvaroNvq0bw1VkMXlG7oVasZmNRON1XelmIaMiJVZ6JQdnK1UrfiajzKW6SLw7mbZ7CB65q1v/X2WEi/a7wRWueEJ3YbrTJmakJbYb4rz0C9RJT9EatHHXzxbn09ZEi7gCr4do41TcXuc8rHCvf9D9Zgk1Dt7wJUr/HBmueHJ3zJ85H//e1FnZSXfw+SWNVwmI/3npReeRa18DH9u5zMR0SebngwgRz1DYillHj8AfBus9Y0x/ZcDwr1w4TAMy3oLmEINfgIu8rZA1SXDPIuDGp2RimY8T7gllLZVl3uG7Psb7IOpV095Ubm8C0vgo5aBDc0AhgBAkowIUAAAAyAAAGj5fkpQo0D6gQ4QAIYAQJKMBE7gAAV/3AAAAH8qVMtjC5XhNr011ay1nZ3kmxClIfdAe3hHA2AZ/tlhSDkqoYLjNrpxQgVXDlmNjAkB1aCzoCeeBH1tx+FsgLl97xbPCkOxdjKtcqU1CoU4TZCg5hIjE6GHJAMs3L8evaDTz3w/G2cOkQ6VY8VJyBwGu9RIvW+uaKuNVnKHznY9LJRa+7ojvxBEp7e1MvMM+aoXvLmqBVzZAdOZ4o1t/48lCSVt/6H/hnhaNR8Y0YlYOGdKnvTwWVou8IUXABUP65gSbv1srA3156h7DRs5Jo6x6IwITTAAncuq6UFgg8iCpm2/0KrrAKOWgQ5TAIYAQJKMBFAAAAMgAABo+X5KUKNB5YEOlQCGAECSjABKIAAFcJGkAAB/Kh0u7GeHjWRiSh6fj0TYYA3hLfFSdrvVtOfX00LvTBRfV4fPHGPWGRwnlm51Q8/olJn5u4+tVWOWn5kOVcBfYlv8SlLeJIpjB5Aa6cduPwGaiohysp3h0Jymf7+YsfQ9mtXQXaDcKR30qBKOc0kw/dZAmdlnIZmE3kDBEXWioa1zX54JiXMpT8t5B50Osss6Dnhv3VxHuv04Ld/B7SAB5/6Cl4ZZeodILUTOUo0ycEJtDvahPjGZarCn8Ms6bey44ztjmXJSx5dGFQnbzyQgpBVHtZsWFytaJSHB/ShHBGZB2ZrvuxlWa5/ewa8UQIs79gF4+mi1u0Nb7AOD4ThRFn8jZvCcHwSFlyvfZWvWLFJwc+JjOwK5o1h01H1tTtP9LOY4wb+J34UOVSexaWAHtyegrM5rZF1eyEi2o6LfeBJgS1I5AnA2vXlotkk2aDN1+RFvwnv/ZZ6fjgur+Gq6jpbEbX0RQPbEZpFFjk+pSK8WDUmNDhM5olfEJk2YNk4GMXy9fi+xyEfckwhIiAlhrALK1wbJ0LmuVanj4YfDMmHVO0n/QO5zY9IaTL9oVvq7YJpvIARVpwvmHTn7StoFQNvlU/Brp8yCyZ1445S3KsAAo5aBDtgAhgBAkowAUAAAAyAAAGj5fkpQo0EwgQ8bAIYAQJKMCE7gAAVwkNgAAH8lWIix53TVcDEdj6DwbIsFbq7BH+GnXE+Xj1ox4/XHPgLG7LF9jDTEPn7/RPi6/zbCyHtvfjDJO3iP1mcqnH3fVsYBNdk4qN8p+xKVdLBzcIpH2sQ9TT6gViv+PBPwMnDp+8BShXwbsFW3eaao99EilpIeyyKXMfU3f/pS3e/t3YznEzv5GTFBEoY1wymU5qKc89FBZ0b2BYWcao9LGgNfFYWWbt3V62PVUeNICVD+bb0S2IiguJxec7GgeiFG7hjCR+w2coQqGlqJSzGAgcE+bh2OKyAImKUw43JuJRnYN7ojcNUVEyJlm62Yji55RwCvqWd+LDM23sGJr7Ny4RDN+0Bw8AGXi6/IPwaHv/q83r9SbW67cX4kUCcXAKOWgQ9dAIYAQJKcCFAAAAMgAABo+X5KUKNBg4EPoACGAMCS8CEogAAMcAAAe+xbQnmdN39X/yuM/Th6tPxkC31jM2qBw3s5qajUCCfqGe/lDLygv8s38OWjm+6RQjzgXy/WFmV57s0GnjNjZLKlJgJndRJU43sDKrc1KTf7ybsizzTPPF34n7wjWI4UYKEDoEUp57ClN6Y5a411FemHTSIkIAAV8aYfZnjgH9BrVTDv9Zx/B6GIBXgAF2/pB7bqJXgPlRLDbm1fYzMlNG8xVdZ3LOfFjATQ0Mifu6ISAGRMIJ38ByBZj3Xy3wKDYzzO6dSo6fjEAKfVvKzCCWpYWzfFpT2H2yoBpy1OwwD2uppmJnA0AD+JE9md1UofunOaOBqTYa29LjbidliXJob2IEmPG30l4eHpm6E3ftiPoqg47FndQer096TiNeMM8hGZ+3ZG13HWP2y4LBoxDL9l8g2x8eXGNNZpJLQnz3ry0JE/QFHi9daRIGJ96fXl3V1EZOu3dBVRfkDFtFe1ebM7Qlzv7MdCVshLeeu4Hp3DAKOWgQ/jAIYAQJKcCFAAAAMgAABo+X5KUKNBB4EQJQCGAECSnAhO4AADcAAAe5UnSYPKjb/D8ySUnxYXvt4qIrdS49+wdMSkxKsU3lhVSHv2B61GAkUrQ+PEwXWYaHGEw3jkCQZuSqpqnXMkhrxv4+RwCAseV7RbX3v6aM66sq0wthWKxlxNCgj0dQIyRKjTjO17QPu9wTI5ju+4H5mIgzPyq5/QA6IL35uXKixS8Ft/zC3QaH8uwiHOsXGoO7MIBmiw3h2gDNLu5U3gZy72nwJ8uekDEdHHKNWBjiiSI0fkkaSoO5EqW2F6U4ArKxcysyZoFNjcYAqFLrFkmmjI/42r5T/2MP/nlt1l6PYVD9dUFMDe+0h696g1fjITB5agElUAo5aBEGgAhgBAkowIUAAAAyAAAGj5fkpQo0GEgRCrAIYAQJKMCEogAAp3a070Gv32wAAAe38GR4ET4BLphhcaXpuFJ7qO3HdUW+aZLQPSfm0X1JoD8/umXwDYEuVHVDAMP9lcs9a+sMFWmoOoc4/HsbIt5VO1ObrreA2lfOQhPnhxY0jxSvvCAqIaiyA4GeSxFyud15V6u4PddTlfzYcq6/FG41fW5CVjBJSV+qDt5MzKQ83apcXZN3f4rXl1lhBcKjci7z1A88QOsHpl9Y5z1IHl237UyHUe1lWFkgDxHGQLaIOdt+rhVeGNuLfw+3F0nPwNLDvAkraKiKtlcrMh1ZX08TGD8ZiOAghhCdklz8yuSodG2/8kY7vY1Abp/h2/ms2N+gzruzy+bl01GKBFsWX6OEXHh/XzjpQ7erRSpvn3YTlQ9zvv14jp7/qRNUTf9OgguWZnWqjj8iVTWGzvoaDIkg0/VH02Yt6id+XyUWgYq8b/ZUBda+1sHLoDNxBF1Alyplwa15+OdMLvv4x1eV8n9JcmGssHSGK3Virf8qOWgRDtAIYAQJKcBFAAAAMgAABo+X5KUKNBIoERMACGAECSnAhO4AADAAAAe3AcOtCL/4H06M2RvPIliVDTPWid+Ws56E4XWu/N1dcXMTxRTaKgcvaSgPllCmf2gOtGQaStBzj7uNTdcGuVVNf6rLeOkQmxmZA8cmZZo8gn/Lco81XD2E4q2rHPvzSo6umTWOhpcHwMbeSDgeApWZ+D4cvwq+9ugIwdPGiI/oGHTrln0vlziZBoyQbnpbJmlE9nX5OS3nyJygnZjuj80f9HVIN0wqepUuNvFU2ex8F18tDNT42/0AQu1g4Xl90D/REH8n85Hm+LGkjtLRZ3oaT6tldFXgka+vraPVhs2TsPL4HhAAHui/cKPaVvl5K0i9tfVacAZIQ9pOSnVK3X5X4qlVF7ai6eiF06Q3n/FVogo5aBEXMAhgBAkowIUAAAAyAAAGj5fkpQo0ExgRG1AIYAQJKMAE1AAANwAAB7bn1CUgfKs4llQR/TeDP5Cetv0ZPWFTcqv2L318D2DR+wFN8lqRRTrOlpGS1JM6YrxztlmtGhx/VwuAVTiHgQf9aqC7QmENeryNxVnRStIF6a166bscEBeBhtJ9BjHUSFOM/7ztbeqCYx7QgX1w85zLLbfoqQQLINhASeIGewNJsbYUaJb5YErPpaPE6rH1jeZR/rJN43hELv+/dQFsA1J4/hDfwJFR5pl8BqtSL5FdCr5ne+CBAzVuwkpG7FaZSESj5nvG6Uy9qL0ift7vpCx5xVgipB7zpkJ7En7tzxsEyFBJRmYt+jTbqSwZfEzCIHg1eDkpICb2OYJMGh3Ny3Qy3sU1TiGOxITSMAdzinEyuPxFSkaOT6f8XTOYgslUCjloER+ACGAECSnABQAAADIAAAaPl+SlCjQUuBEjsAhgDAkpwISiAAAwAAAGkGMt4FGGT1RKBR4nd3Df1VpB4Wd0/ozPHox1egewJitxE7XdKycnRDk056/WWQNbXsdkKcHTgK71k4f2MpXTnR5Vtkmy8wpdhcA0hjGfOeRX2HrT1nV/+oXx9DbZLOILtsPRHKPEPsoy6UTYVCEO972+Ysb+66afhsdJ/16kTtXb3s4zaaTWHKmlv2GaWXJP/JtXnmN99A0kQvVZl1RVdhrwsWK7zaRAPAlpKu4s8NtJGsp+9QCeRK21FZ0uvw6UFTteCJ73rgWSnYKizPb3B0eake0OGO+rfaXP6sOikjN1spO+E5n/49COFr8Z8Y42XwKTKrCLNWbdWcU7R+8r0R9EeA/2p8jr9lfzkRoZ0sTtOy6CaxLBvgqTcFbi24Jx5HsUxlWaZS/8m5Tu3BUFMq3pbAySZzGimAo5aBEn0AhgBAkpwIUAAAAyAAAGj5fkpQo0F3gRLAAIYAQJKcAEogAANwAABpBi3utwavKTnuGdwdgys1+I/FTmRIasl3JK2YC9eLuaGsZ0OIp6ZLqdbdDI4O3K6I4iPWu90eJ20mW2jnYOKEgKbF9gOUIrDWORBOOuwbQpncJSTwXCVHM/357rSdemSTboYQdvEi5gqAsVW0Lalh4aDTqrB/KqWqT5frYly+oS33IBzsHea7LCjxBc6dCnRXNjCzpC0aghuy1lPxSql0gALbN7ZAeoGRTUQrhJNzFcvoNnDi0u1dajhAK8JtT2vLDwQmSc78EW0Wd+hbLxr6gLL3OqiFOvVXbOJyVCGtwiIfNnuf8y+liZV184I6nbHYdTqbtXW2XWGg5OqfdtDdG8gNuDBRFdUX+0TBLa4/nzjR2QTENVgrSbbb5edb5EuNwPgq8/BiSzawRyIFK79SGtq236V8OZ08InuDMUYH0IjNXvYYTkQuwtESBOvDQhL8VRgYNByFgurd8lHnizfBTF2ZJusAo5aBEwMAhgBAkowAUAAAAyAAAGj5fkpQo0CugRNFAIYAQJKMAE7gAAMAAABpBfaTyBh/jJh08xwX8/2Xsfy/19QIhboxxGmHKGmhceO8oco2AQFo3VPXFOaI8aRx+DR82IGyUcJQrIUrNzKzExGHZgkkgETwSufP9pspbLV0ZbC8oYE6ShefQo+bJlniziq74vsMpYqhmaAT/NcC9VMCLTTQqtFYaBBzlKq+L6iCQuJ1VQiY03bwAtsGgwnEHBK2zgyn1PbT4u2Uo5aBE4gAhgBAkowAUAAAAyAAAGj5fkpQH0O2dVXg54ITy6NA5YEAAACGAECSjAhNQAADcAAAaQXbbxnRK6bDW43oPceurvwmURDdGboP4xR3Yz5jmTj0iEXph8/kyrIVzDPus9fhb/S1nZS8Fnr+hAM2icdj7/NTzRQdf7NBh+/7FnDXo5QnGVyNdijKf5YTA1NQYpFnLI06rAH5SuYjZmV5vQCCkJO63aEGjPNO9V0/BiRq/XBhM+8X8kM4lXcH6WK2jMQypoUke3qbUSBG1eQcU1r3gotUHml9Jn7oh7TSKu6LXdN1aMSdxLImTHxtuF8JbgNBYI+HQxVigmuKVaeS/sw/ueXALKCjloEAQgCGAECSjAhQAAADIAAAaPl+SlCjQQyBAIUAhgBAkowITuAAA3AAAGkFvyHSMocDNU9qN0OUCQiLHAZoNWP/55vmniIBLROa1rRdT0kvFFqwBdQtM8hgtP8nxU8escMaK0Dr0JQg9p8xIld5oZ7tXEOm6Un5eTbWLgvDJPdT6oOw7nyDr8HF8oxqVELRk078+eYvSTJkHDHMC+0Cs6gh99mCK9H61r+WWV9++/wkzEafyon25ETtLiEeMAPuKMRYGrfUMRstegTn/d6SyCyOJl4r0pAqpOsdTZm/SFlpIhsGEavKn4a9AaKna7dLbM2+NEgUsyUO4SEVEkdYqhDanCMYyMcx2onB7QKXZeV94KIiLMlUBKzysCNnIbAflbh3MNQAo5aBAMgAhgBAkpwIUAAAAyAAAGj5fkpQo0F2gQEKAIYAwJKcCEogAAMAAABpBbpzM8p3EMLWd/seB48V2qJT3q+a3yRuAPwifV3ES3AFM3nu084lFgjOTYsaOL2SVrYCFVucqMs0byU4+Zoty6M82+2ueheFVI5D+TeUUipQcYACkq5X0OPv3q2us2BzcDdU2zqOxmb90pQXiDSBSrHeySXuuRaYfaoGMJyWdZwcp91V8DS9UopWtgJ82H/vO1tKVvGPaEC+uHnOwvKFOImUlHFfupzwsSE72e6ImIZ7zdvk+UtEiN4GFHU7aknlhq1/O1mlHBYNoEGIBALN3/QWOwEQlXAmJSwh+L0VJjv4BAIrxBmmt9c/D+DASz6TSiNoDeM6vhVYMUfHP+8Mvtb1HB5SNTcdzHfHYBI0aoEafEhR9ZNCfP1KgXfqQMJyLCUJWnk2h1AEnAr0QH5zeC/PeBBrB4G4UcU7FZSyFyRmm52xLzCOOalOaKuURISuc8mphd9Yr99YR8wn+fXWNJ48ZECjloEBTQCGAECSnAhQAAADIAAAaPl+SlCjQJWBAZAAhgBAkpwITuAAAwAAAGkFunCwCgZ31vti1gDCbY0gNADqF1OGk1vNwzHOE6O4cDu7gqnBPDXs2vo3GZfPJOedvlPzzQBv1C6Uays4vGallWpqKCXTB/GHJQKa8Azr3dvskBzRZx5qBYz2wE41u5ImkAgTlFHIQgdsGwFPE5XvzDsSzV3C0XT+vESAQwzVyEfAAKOWgQHSAIYAQJKMCFAAAAMgAABo+X5KUKP4gQIVAIYAQJKMCE1AAAMgAABpBbENLq9TSMTrR6FNHgfjdrWASu0BVrwx2L2lpdn2OhvcfLXadh9guqOzDW22ijoSgUOqHvLsAc84oIIgTFd7n2wYSgUC2tsR0rseP9ctDBIpLX1ugr0AkZHsLPuBCgjTDs3sKMAAo5aBAlgAhgBAkowIUAAAAyAAAGj5fkpQo+OBApoAhgBAkowITuAAAwAAAGj5zkhjYMRQ5Gk4Da62+O2ylQhRu8LF6IRqr1zHwQ0CFfHiDhahEqfcpKl92tNtpOASngqCNG18lcQI3vGtmcKexYnB9xbIb3elmF88kA32lQCjloEC3QCGAECSrAhQAAADIAAAaPl+SlCjQIWBAyAAhgBAkqwISiAAAyAAAGj5zksjH3mAu9p284gbhNYpkJt64DZrhhFnBk59U8ShEq+5ZotgICSR2ZH++f4rCU09oFFujMCEIp9y7Nh5GRbiPzPQJbgMEepPFuR/f53OpxxgYdjxN3/GBV9K5OHt5M2OJ+Q6AYMBShLrux6VAHL6XoWco5aBA2IAhgBAkqwIUAAAAyAAAGj5fkpQo0C1gQOlAIYAwJKcAEogAAVwxMAAAGpSlbHG38T1ePFB6ISKvxQ7yRWLu4zJcnhlLxCCzj/fF9AGgL+aROxah3mvAGMQKdJaOLLXPu1zMiCIntWb8ikZOEnGOBDkaVuv+OH5a7q4JhVuQWy1cG3mrQMBLobh8TchQzP0V2qSzAz+PNMTjXp4Fyx8DG4VXAHzjKVtHRYQoMR6xmcDv/x02xMqaXnU77RmAi6yPhVreHczpD5/uxoDAKOWgQPoAIYAQJKsAFAAAAMgAABo8pKNgKO/gQQqAIYAQJKsAE1AAANgAABo+wy/+hw/J9nEu0yjgxZAuCt9wdIqiWCZN1JYQo/UgbXeJkpDIG89cPAr7y8Ao5aBBG0AhgBAkqwAUAAAAyAAAGjyko2Ao5qBBLAAhgBAkqwETuAAAyAAAGnphUhGKG4OYKOWgQTyAIYAQJKcAFAAAAMgAABo8pKNgKOXgQU1AIYAQJKcAEogAAMgAABp2Gvj4YCjloEFeACGAECSnABQAAADIAAAaPKSjYCjs4EFugCGAECSnARO4AADIAAAaemJF6aS7hP7J/1hy/qBdc8coPcibl2gTyrP2/sh/VXYAKOWgQX9AIYAQJKcAFAAAAMgAABo8pKNgKPBgQZAAIYAwJKcBEogAAMgAABp2JjORhKqmMLZaJuyYwRH026Fi4bp3ENq0zdD9TxXKVr+UZSoTznpfxdRYgsyaWijloEGggCGAECSnARQAAADIAAAaPKSjYCj4IEGxQCGAECSnABO4AADcAAAalKVKL7HZjCq9EtSbJ2x3Mhhl+9aSjP9vkmJ09t0ztXxkr5PtZySaKO0fFxNXML0KmxtG9WWSlltUxK+x5OZmfYRNYAriMpwkiZ55zXBvKOWgQcIAIYAQJKcAFAAAAMgAABo8pKNgKNBHoEHSgCGAECSnARKIAADcAAAalKVKZI3YKDnyHslr1JhouK3KBrFyXzrrfx0zwwGDpARtCC72ks6dtKLZvTFDTdhIvnkwFYRKpXqQnd3WGAlj9K9xMUci36Yk+UUxUH/+exa33/OXLGUUrTijkw/MQi4Mq8rTcXxyA2XPp9q3/+Jt/9JwcTofUihwHj3eNO03keMr8J966/E5LzwDiTfbPdL6zXbZkBohShFYRu5ncqPS4qJk9V+LuVTdqup9IDsp/L2d6o+2Y++E0PTqKypQnWGZsB+J8J4DG+vTMnFIQ79i0JHpu0maMIw4iIh7dXjMjZAKYR5+DSWMScBr2UxmrdHtNPuBpFG0WQv1/Z/A1Xuweb9stkTtBHQCUrzwACjloEHjQCGAECSnARQAAADIAAAaPKSjYCjQLqBB9AAhgBAkpwITuAAA3AAAGkDqg/1h9s3QT0esVdZUQG4mfQxhW1vTqjMwNuw/z4KdgSyAzQSMTefQb/rFDVwUOlhPHt4AYUZG/JKFYYzR2nhkv1fHoY/EwwWrtFosEcRFIdjtLgoXDg4y+1f/ivLRvTIXJVVObQcITwKWi41k5luz9So+VojjlzvsqcKs2CwutQ7j8ypVV2u5RvU+U1G0zalTjAvTxaiTRxLxxHauUs16DKwso2D/qCjloEIEgCGAECSnAhQAAADIAAAaPKSjYCjQMyBCFUAhgBAkpwATUAAA3AAAGj/Ao3GZ3/5vyPURuuSUGIb/FxIjEn/zTzLfezVQrIRWLEeGjlEeq1laRZi6D7EfhV5IKL8FqmNmF3sSYgTljAMxfKirSJbO8kMdtdQ79gLS5//RppFunUmBGMuk0r/X3811za+y4zLudBs0WOYypk9QqsNvFM3ZGQIeuIX6U9NQOrZg5oSx3pTJabt2S+BU2hZcrjanbUY+TxbZY4cgxUY4d3Jy6vKVQeWMkKupDUdVHjz0A+uv1NHMACjloEImACGAECSnABQAAADIAAAaPKSjYCjQQ+BCNoAhgDAkpwESiAAA3AAAGpSkMiqmnorKKHGEQjPwHx5ooWA0FKj7QD98U/VSMaqyD8Ovg0+60nOEjcTJfNFlOytioHwxmj4m2lRY+Im+vzG+92fpslMu0ubQuA7vXbPKIIeEpsKZ/kn4lDt6C+Pb76dk+Gi42xn7Kgv21+JpX/aetz5pdYv68KNCeL2o2wKtuL2Iy3dop2LUv26v41awD7/x0hxq7ReBiGZsUm9cCnrZ7Vl1BE+GL1x8NllGOjLWAH1vajM1IcJ/HMgubvB6Uai7AgjJd0M907PKAjItHG9z8XyprfJ9+yb5g4bdh0eFgdsO4y0RbqSRk6G0ohU1MhCDPuHsd4QxiPs/RRYo5aBCR0AhgBAkpwEUAAAAyAAAGjyko2Ao0CcgQlgAIYAQJKcCEogAAQBo/AAalKSrsnYPezxavMwfuJYuFFZptr+dfe8DmBVYzN1A7hzhfv3vZaiq7TYPK++BAJQEmqkNrCQUZxirakJXk1daNAXAFPhBdxvAUgDNUUZrVueLUqg0nV58s9V6yv72Q9RPo65Ed7fLqb1ZqkPd14F8Wur0eXNEuLKaAJ48TB/oyiMplpyonZQJk8Ao5aBCaIAhgBAkowIUAAAAyAAAGjyko2Ao0EJgQnlAIYAQJKMCE7gAAQBnqAAalJw0nhkl8D9BMFJhHxWo6J7sa6F+JzvnXdLe6qhjJoUtEfivQZz9W2R+Rhq7mz0mQt0ASbCLhzvg8ZhvVWRrJ1wpXcSG0qxe2PU8I/XPet4Kozfpa7VJ76InwJ+edAqQrcSLTYwcM0F1xeSjdbXZUwn3U5xFpmzsiCbgCQO2SThV0TLMYlP2edPBdaqxH+jIKqIaMRZPSHuPhAf3R5Fs4wkbbC5wXCYCWBPj8fbwVxu7YFgAL7ehh8p+WkCItcwQ9H7LQyQfBXaiVq41dWGH/RLLvuxvbbiZXAygygDqMlJde3RduR6evc0RvrV1KJsfknIyrlSgKOWgQooAIYAQJKcCFAAAAMgAABo8pKNgKNAz4EKagCGAECSnARNQAADcAAAalJva0had3mWjht8YcNk9Yz01rA9D0HaxGetuc3PeQnP4YudtnJa3pRohvJB0hsTuAEyP9HwPj+h2TXiV+K12jL2IyhkyhExE5X/400UlOXQ9/WCAMH/AwWwp0wfppQNbJK8URD2jObAYaOchhtOi3U2q4Txm9zcDu87F2Xcc+K8//iHG8p/BluYSDHUCwRCSQswDVz88+VnPJaPerupIW5V4kmVTy6Qyy+gBvm3S+DVttFPN7/Oi9/G6xvWAKOWgQqtAIYAQJKcBFAAAAMgAABo8pKNgKNA84EK8ACGAECSnARO4AADcAAAak+vsHf5VGnWvMKyCyctUl2w0Yk9p9kJEu4GWTzBWWkfvCOS5wT/TOrBBb92uxJ6nRwOlDmB4xrWAzA0S4zDfLY4sTjD10GoQBlayGuGDgFE4zvhR+UDsa4GpC69PstCJyjmCYJQl9iaOXVIrITdXHtTiEbgB5wjvx5TxCQyJzQKKcNT65xkDJlrLsF+mpebVnBUJ+DKwmTiNbVnZZviIWCKcgtcOC3cO88u+B06Q6hd9Gdf0aHFdGPdZzZc3wMyelqP19i7kccf8O5z7B1EFFe9MCkHtSd8HVHyjl++fBIdgKOWgQsyAIYAQJKcBFAAAAMgAABo8pKNgKNBSIELdQCGAMCSjAhKIAADcAAAak+lp6Aw9wgWMex8j5+VYqfmGUsb9syRmUyh/jOzS6ud5BHwbWqZtd0dQuq5WQqwfGyHbzC4uFlloCycvvnDQMsPLPV8+QzDxo7XKgVnKzG7kqJlRzTi262notBA9Yfj7I1I8eOsVmj8HbCkjT3oFJedaH/5VOdoagzVi6xpZ6EK0dktEVDbYTYOgKKypiyXRzLJ+JYc6ls68RlrKoS05WlgyqYX1HRxG1LWjRi4B2h8rhn1XdnHnGYCDkjmgQB/O7UQNG/FSLB6rlo1c0SUNFOq8UhxyJITo6BiGeRPiyxZw/5GdhYiGZbsaWWb9YWZZHO9ZKutusK+PujPCPTu4/fB+FeOms5jvQOfUIvslJKF3Bj9QXyILDhjhQx4fWDizSMcGAp4zomQhNhyuoaeexPQctYcpACjloELuACGAECSnABQAAADIAAAaPKSjYCjQQ2BC/oAhgBAkpwETuAAA3AAAGpPoUCEtUumgjOuzP7sD+F1tBmZwMY9os2m6PtZ6jaVBYRRivmGx7Ej2h+5rbEqU56wo/mzBBvQ7Bp77X0kIlW/mK6X1+rpFyZmRGpDRxtiUCp3AKvOGlfrZaqLmzjmJOtnpv/j9NGsd3F8v3W+CPcUXIbOblc4xaA1aWic37/WLkpRJWd3uvK27JPhc0TaOShSjGEvYyShfd/LaczApgmQg4JJzcnpjEeGoE8VGvRQ0V1L6z0Ss4WcmUldSI5P6UVjgwJLoSUCpx3XPUZitV1+QkWFUcW8l9mgGC9kinp49UhgjHvAQI8IJe3K3Haz+9qIWPgtXQttg+7AAKOWgQw9AIYAQJKcCFAAAAMgAABo8pKNgKNBS4EMgACGAECSnARNQAADcAAAak/Sy7fI+cgPZOSYIXNsPOAiIIXc/QR7Rt0cvSTBzaH7bjSQE+4Unll7IUcJKnc73Fc8o03lZU3ih/5USOJzSYfMq58+QSD8HGK2tQ9Dsx9adJjpPUG1p0nfoF9ykurNZ2VOvaVpcwgYBgCcjNUSdbs0rp0hYq2nCX1u//yJkiSwdOIA95UY/2sGlPi5RS7aS1c+gCYNR6CMs9QtSmSNWiFu+JByfsXs+O4Zz04U7Dju4Nwf+SGBD8D0op8s17UbNbKSPZuX1/hu0FsY/GMdPbqiZg+YPqOqCrHuwKh5fxMLwVfnZD8BSd2Qg2nBXVHFNXV16hyMuvt4vHgYQUFIFWr7NoVNs2QGbvnNEuKKrn6Yh7ltmnbYV2Fx3ldjr5vDshGZKWVghTeCsTco/TnptueH5iD39oLhf7ijloEMwgCGAECSnARQAAADIAAAaPKSjYCjQReBDQUAhgBAkpwITuAAA3AAAGpb33ZeJDcb3iqjAaH5tMroHHYh/Avlpz7gGwP1v3qI4QBKrZSnGNhtoWlEd4Gjum6HZlwGS9OrJVnyn6yC32iOImCmVMzhJkLwla44yguUBx+ezlBQd2AeH4qmmQwOfBTdLfD9jcsG7V3VuTrCmnDcw2xQXnyiykSA/3LEuIlSO3J2LUeY8m57RqzQmOh6hRGZqas7nqvG3HBNgviT+OmYAUz9negV1aMEO+BUXOFqLdI9VmayePTjBhSVaO5reemHCKATS2qEkTkDYHI+qEETxhHbWjVmoG/w20ZORgB0PVM6S1Rkvr+jNInffcK7vd+f29g4fkPXTFnAeK3GL8IJ0RbIwQCjloENSACGAECSnARQAAADIAAAaPKSjYAfQ7Z1agLngiFVo1xLgQAAgIJJg0IACfAN9gA4JBwYSgAIoH/Zo3v/w/p/J/538nR+1+s+L+b5H+n9BvB+r3xf29/t+p/P+r5nrv0fssWKR/nRfn+0+i/nP7c/6jvT2nt/ddm+H2D5PVPael9RvTrXY/5z13w9+9R9d1Ts3yfjcD6v7fgfk56jWL3vtPddg/cvV+96pu7J/V/ger9j673vtWaP1vqOofYwANaAAH+yUo3/BGrngaOf/zA/G0FOcBBsZlJi3+VDhDDP0wpPrAy3nMDSXFoFSNVkJJAosO+6Mr3cYSVjFKqnHlqzJTDKd7RjygyLV5GsUQWRFOfcPxO2szQ/Y6vI1ih9p3BukXEG09lDJ1GrFignYyB8cVpQi/rwEufN2qlqGdkQTwIaHJpmZasVP69owEp42mJ3PiiW0XeIodQh8pHBLtzaQkcmN6Co9fwHhV4fo/vrtxOpgPXaI3n1+wRys9G3n8t/9UlcWOLS60XYYgj5KAiGxkE+Cn7NbdZWtJA+ZErzXlcB/fu572ikb/8X+mPtIaaXMX1W/rKAYPA2af8GVeUqvRLSbvZU+l63S8yPd369eGC5q85uWWkYxoB+gOewwS0FVRQer7MpNefWqs+z2GCWgOMnFaeAKHX0zdr+Yi/CnV/yh6zmfL4poRG1ClAS/UCTH6/Y1rOBMpRrLcxWr1hWL/kx0K1/NKWntSAJbSRH4yE4hHfebACmBKMOhQRDF3Auru9QOhzB8IkAOG+ryH9lPNa9HuVkf92pXBDB82pae1t3m4rNiBxSA2K1k1+bWPeFPo3EQekMv03yrq80RdA6HXlT/jp9PKU1KM4+H/eN9Xe7DRm0L75NoRwuwpDE3TRe8784dLWbLHMHr9hjTwVYthAyRtxRg/cZq9qTcqYVxbCLlaWZpI1dfWKdIaNTD209t9f9eBqoE6e+Vr5qlOQpZ/bjn0LzaOrpr9eBqoFvBxCEYRAjGVUaYClAe9Yg4gR4EEX1LPQRSz9Z4WS5DGb3iJzA6QvIr/eGw1SUKhcS2gsgyGWB3u3OIlI1kGZnjvNY1DW8pojHRhAPN3w+MdSJF9HUnckwz/SdfLaVOWUbj6T9YC75xGH14v95JyeGl7/wa5fEM+SIA5EVuVWKgDIU5Xszd3RyHNR2byTk8NL3/eg35Qcc/CQieQod+BVqHwMvwHpZd+px5jl43bO6jvsNTYf3/slMu484fImLy8sBENtO+59tdcAuqnXJIMppm4WN6m4eefOc+CWLcBL/JGosl/vDYaocDLMyajf+HUeAgSTjmlkXptX6d5OIEYyqjTJKvuIIq9JeI40nf+yUyxD+EA4XnINZUmjkM8H2JCA/0gvFewVLHXekTzLGoxuhbTRgz/hJLK+lZSCaq9kVJt7YMfzs9gIVSjHqCog+uGJmqhCIvmx0Wya389sV/heYJG6vdqEmmqiqB6Q7OPvDMyRHPf9J+sBi65gkbq69zC68T+eVDRbtaB4J8+uFWARBekkvvHY3DK6Yqgl2NpfnbSukcolQIb8TQ5CResBZ3XqBMqKdQWs1ui1RBxdg5j69+zWTEvMIneGiqBsY5cpj+Lxw37RDK62UsSNeoFSvPfIt9SK7k3/fDrrlxaBUjrCxR/2qgoXG1Ck0i0IKU+6DnGIZvSYwQe2p6WKCdhN3icIqSkVEStx242ZpcG4Tz5Dvi4HAbfrr6ooFbxuKw2Mgny+/kW+nymxo4p+IZSokrICKzSb7QRbiMFvTAeQt9d9zfIxqFTqIxLqpR1Lo0LSzi1DA1YsXgCvTVRe5h6NhsZBPl9/It9PlNjRxT82xU0sk7mzGfKzFDA1J6QupT/42oUmx89W3IBbnDrEvwh9dKvW2n7mRZkR0QcngRbi7LBJ6EYt94dganFnfiOQ+JZelwhEJ5sQx3Md99frzwVjbl/aKRv/xf2GSuto0MaCND/IfnGpnifa6/T5dBUHzn6LsnIx88z6ZkOKLrQZob8RDzGhLeey7scfavOlGKJOaoXRwY5jl/2pbTlO65zun0H9PqKSs/Zd2OPtXnSjFEnNULo4Mcxy/7UwJl/syHwRVD0zx8AbH5Bm4ckXCC7prATjunRdIDG7z/gOyUyx4o9F2rL1ndF7VXlkqBnJgmqhkBQJ/0FH5hJtagPCu0G1Ibp44OQXeEWWFwur2s/6FiCmhs2ZRd0pfUywPQxzFUBv+KDCqH0tP9qJrupGLLJ8tdoWTobGJB+T9f8+tYc6hjgB9JTzxmAEw/q5hfI/SEfoKi14eXIrGxgsJjwSVT5V6gwxMNAto9C3aB7EZuDekQtSyaknESFmLxeN+cD86+kPqRj2KoZfBgJtx1OAp/nUttBGQlKiCIsgwfHt2kX7uGR1+ypJPtjR6FDM6KoVjWxbQXEtfVDo4ZVQTAJc/VjLxLW5Z8Vr4L9ClJ048XQ04OMoz+4NIHX01PdEXUxZit9VJKplbz2wBauCJcnK19du13mkhTyqB2Q1Tn68DVQJvEtUU4o2Xlch25V2J/tiIGdc0si9PCGEIwZuwEaHC8JaGbuQFVoxp+HQlNM3DRWtoc2DtxMow9dBN7cPpCEp/eGw1SWCvVx81iiOegPYaxr5BkMbXz7z61hzvHxTOF9Fo+YnfP7lRvzyxshbrNampwNVAlfm8RNPlYGfLf4BF7VXrLHt8x5nGf8JJmcK0SAbStKVXbzyLljJ3RqaOJtxaPtmmPSBHbQHm0Y2drkiS8QpJL7x13xsjh3siTqnG4h+3/jd4sfWQ4bTbsW3EsOggOfvoeIENvmz4nWXb5IhcpUw1gbqUgGMqr88WPhYK84SSg1KUkgjdTvZCzdpExj4kEbO8auPoGBZJpSKQcsHdZ5fXg+eYJG622RbYoGT0vYYeRQFiD5Z7SQpvcY0Eau5o/mFBCehqy3xGWkHM5VI0pegbC3GBQTrRwbZOnQ5zEx8cVpDM5qFP+fsavyJB5e1q2HocbUKTbs5TC2eYDT2dVasJC33l7jGgjV3NH8woIKW9aAudLTyNykm/Ech8Sy9LhCITzYhjuY776/Xngq+KzXp0PPcRZxBv/HmdZbgMBrUOHBacwRVw0KP/ZtybMmwcFWUIMEK+5lnTq4fD6zPGgpAS24MvSC18f+93FE8g0FJq6R++Hybx/BsoSNz7LR2pohdA8PYEtr/po1dSyUzKne42ayPnqtH5xxCQ9Jakpm8GLEnfAP0FtE32EnSsGxuUNnq+4FnVEhwXFSn9IHCrmSNJYyqxcsrctTgghvSA1ShOjaSmzjr/lCIfWQyec23OfbAwBMxz7E022/7sJOBHB1rNIbuv0jdKCaovT8mmhPwR5A2sf+KUSLyj55VvOollV/lzVendk0YNnG9+9+nGdtOv+C+km8TwBFk438d3nh0q2cHkWy+Vb/Sh6dzD70QONEPfxQLeEeu4ED+MWHfwo2EEoX8sDPt04GqgW8HEUo1hUDV2stBtq5jpsSpAqEuVv2dIv//QsQU2Wr9IxExfulR747VScBgb4fb4IrtOA2iXtjx35pAf1MO8l1yFgTgaZipE79v/CUZqplxpsVx9I1UCjHBwifze5RLZ1h7FVVgCmgma2DVOz38ctf88j83CuddFXvES9h246m+eeZ5DFelFkZWVrbH2SB/Yr1MBqu9cy5+Y7Ts3/f1aVuq4iVMOFziQkI7cPoERvhJ019pyL+9WCJ8XZdY0B0pF5vHiI69MvlCZce30BwWE0meQt1ArvyoUWszQ+7aRQzDZZ2DdvFDPEp7hLHVClplb6HJPGa/jahSanllOoiUinf81jRyToh5budxwqwWtNVc2iGtsvlN1fBWFFFy64luQVlsf60qdbmcJ6yj43cu11UdB7BDB79A9/LO04qvf9tjg0NyQTJ44nWbRyubPIH5pS09lbtbzC8o42iXrCf0yDwuPbPuxrntZ9f+tKnfPWWiAGp7XFIEocDl3phcOJzD6kKsKkNBBcB69cDbgxeLLgWPwG+Y4kvLpc8Sd6OpeMTFXKPq6HYdMu+lBHKcdI7Tcj397l9OXEMEeorr78C5gw4Ycv25fHUTtX80pae0/jkH0En9sYKUvIwEwTm3tIQ33D+j2Xdjju9OPbaBBYOPviyF7/ZBZ9xXRI1BqHPmlLT2n28xpIvqUS/Lq1StybWlAXDe6Fa/mlLT2rjeDk+66qCfVnQYQ6hVx9iqATW+F0R9amgDOaWeQ5GpHceX79DAaQtOXKbDnfo2j+ojQOjZA61352v10QK8l0cULOsjadM9Vqh+fLoY9kZdx6YQ+Ux5IS1wkPuJngNa1DWf13wyklq6HLt/YoeJDN8F5TTNwsb1Nw88+c58EgOWVVTPFIdGv/r5sA80elym3FCCwMQkx5tD9wy1oYfe31un0WUTqXRbr+Tm2F8/qqXtJwpj0IBnYFgpOU+vA+CSuYQ6ZtGrJhiNMzgcO9kSdU43EEcECeChiQRJLFC7Z5IgyTacwI0BPEHPJTTNwqzHv9wnRrHDSJOcYPbrDj2iyDi83PEBqrJ0hRaBMgJ1ol/txM0MUyQ6u+Ye0VyCO9Aws/YKYhI+zWTuxumK/JElWysxvfWWDUi2CmTGZGuvQY9BnEKczihZ1lbDPRgnPfahJtptwMzn0jKyrBRR8f2/7pCUiPj+O6jPFDBs3Wrbg5ZabD/3+9eZH0x+3HU32g2As7r1AmdxGuXxDPkhY6jrfCMp0MFJyZAWENjVV7F8iZrZMmy3YsNbPKPy/HDvZEnVONxA1Uy1NgayzmdY0BiE6gXoe8G+OUEIFOy6wX/SseaFxIjFApKV+nieIR5dNp1JWCbrMceirPud1Wj7tyep4jGaN38UxaM99/bzUKCiQY4Drn9+VpOVRU443JV9K4Px2/JVDeX83KpqHRpx2rzFM4GQMqiA2fMhF6pJcMKX9o+2WF6MmxopWL1vBiRBobYA2ZltznbToEHFTF3xzsKrs+zgbppoycdYErIkYmP7TyDzv2rt9hE59q0CQ63GDRbhiSkeAUsz9pa2xj6OGWcAoGSIb1WIryGNdUfkukASCaVUnvKYWRYjiiDWD1aS1tFD/H3VfQmScRlzH+G53n+LR80nShUsrXD5et2b9z1U2qss4dMkvO0jqvw2EmGgI6gV/qhflmY5UTH/7uyKKcnBby+fJYlCTfpx0/MbYHiWOvtVpnzUzD7NNxUmGfLwVbYHlyT2BUhJAobVnMufmQBmoZosmhfeM70nBRcTrPvvMRDQFxtQpNsUnt56swGlbJhNbDaIHDozWnLxDTEC6HgCb89SyJtIucSqeP9sAHZir7rj/FIUXDEaJ1eaUtPchC3UvcMsg2Zm84lgyJ71c3BF6nXzSlp7gz4hRihDm3tSnCRPp/SSg8MN5ibP5b332+yP/QLY3m2Vc3l86uWaLjlml7O6/+5kG2QW+/QPfz5ygCbySpYUiRYKK696WffrR/9udn/Zd2OQDNnSpdlvcoMgzEeu5Ylv3Fzj9/vmnTus+DYEDeyrr0ICiKHqO4DbAkOAR1vTyuf+Ckpu7WIx0YHodZm7rVcss0xGEvtH7suFVnthXGaHX5iWuPct6LicqGrCxF0Q9/FMY5JyXOmSLJ2bLMm724fSYS7qbCESg9RgstXmbMeqkgf5AMM+S72cexSx+QhSR2+Rz2QJHO/2+WO00dVZ3Y5a+JWHQX4SFT+pWRMZDEmDemPyCqB1ISpjpUCZhSOyrbglLEADB/+b6Sf767yp7xW6wNqNrr6flPaWu9d2vS2sYhUyHQXngjTC2pYVl0axzeoSnDS6VT/d/wkmGSd5j7YtcZSbT9D2gUbGWqL+N8zjMYr/LXxKS7/a20KpbrOU9fki7BVlZDbihZ1sP99FicB01EGC2g16Aa3a4bMmQFhCmRTIsY841Q0KNsJwpnV/93gT7VoOmEaIfHyZ/2RqyXSE5S5lxpsVx9ItZMidOq6ngVZxSx+Qcz8PBA0AlR6qPuAFfGazLPEPFU2UspnsWUceX14Q3dHIc3z1qAfwTYpTwa6vhyaht0sx8HlPBihXJCCSVc27exYEF2OZnyHiZGcoqWmlxlhQgrirmqhSPzn6MWGmkFXr59OOMgN3JO0Qux/enMufmQBmFJxF8779gy/IhRcVYUes9whvgYg04BPYNjQRBHVUlbeJ8uPESzwbcotGp9q2SW/foHv6Ok54p3eM1xFtcqHtkFvlkzXxJJ7lYf0ey7scfahh5+J9yT2u0IdXeLiol2kOqv4xCObAYj1tNVg+Jp46JAeINZ4aHbe/+UMWpaO0+syqZcW3RCpzN/ZKZW60U8QxDGurw3UqEgGJB5zP8DilICiOeF3Q14LVGGvoZ3X+WviQwipICTB2T/nTMcdEqse/07ilEGsahMBA8fnl0nJYAJ5l2zvs5STK8D/EM3FGYOKkp6koEWxaoyBSGR1/C7yrI80EU3D+j2+QsCcDTMVInft/4SjNVMuNNiuPpGqgUY4OET+lmeKWPyDmfh4IGgEqN+tfOcyKEL3HutYxnt3TZDunOqrhC3GURpFubfuGBoRm/6yjHmtoINi+U4ctkkosOJRT252u4ba5Vb8xt1CcIWrsmd0cbUKTbb2ASHpYmIMUMn59eY2gSeBr2fId89qTRJ8J5frCJhGTUJA85Scp/uQUCqtlopPjBl7Ma2VO3ArQ1yXc5pU24OIs4hWHtnwC2oluar2bYWVcrK1jdof2SVm9PijdWC4LMB9qdeqaXY4PCUZF80pae1t3m4rN8ivO3JH/iqf59JU3met8VG7xZAgH2zC58AqgAqTFPnFfkItw0EavuntUdkCo4sHoDwsPFOoS1XolpaWIIis+HQvbOMdqWAhhDguYfGQkYxpZscHfhyq6XUEfA7kpB0Z7SpsktXv0jP9LlI42r7cVtwZC2jHooLNLRdGruttctDeXINTHLWamiYfsu7HHjZS4Z1+9j8EhjQTEcXvSMkejISRkcZgGNgZVxiSVJ8ob2G6mIiCKeT0nVB5dOZ6V1V7pD+KfJmXuCvarbo7IUO5zsXAWZyhqtm8rdH+OMbYmgZpCub4T21n40llMJrFLQ5p/UDEIh6203jw1Qktsnx0lkJSEFWhjncQqv20EPTje9wdLAjn4RmTNJcKiKWsdP9mqxdXJf/FAPvQiVbVLTgGTBbsbXa77OMX1LPSJWMZoB2tKr52KJIXzUzmC1QUD6WQ83AJw/9oFsUV+qHv4mvAnMPahL/Y1Tsqa0zeqdKGfdX+WvhTS0tunGOh5gW2Aftd2J/N0O4rMdaxmmnNLuEjwoP1eSuFh9UDWv5FQUWtKKZidpV5Lj7HkFvCOqTUp6vF6heiFz4T2FdEO4dzUhk7S11cR2jxewKynyUCnWPtxi+Vwf7mIrSlBbPWSMybCu9UpTn7ukkFOOVNLsJZ/3smtggAeGtGiLRSzyyX9/JbK8tYrvaE3i9NWO/sHHFk2YlqdFUAXEwG/D1NUVQ+yXYQsH5TTNwsb3QfMjo1jkK8/2ttCqW1SX/7QLYor9UPfxNeY2tXxRqPZSnPfBy2i3wQ3FjmoeOyAlNM3CrEbM0C7/L0hND0REkrNk2lC4oWdZKeAtsSpbxyPHtilETKu6zEpGqpA5H0BW1QKkld0myvGFfB0qghiLlcPpCqL9dCqVJOkMZHEbUKTi3h8CHOLkXu3HQIgY7/vKhOpXyHt5VxQ8Bl0Fx9n6p/afykO6oM/s98xR4uyCrjkNF7k+FFamtPdAiYe+PDHZSjqqe3e7xY5tWsJyVKsgVtHDbAsCyPriSQa22nmxyECgi+du8D0dYgTQLoS3nsu7HH2rzpRifck9rvu5sQ+eevO9nps7kcrCVWJr2mxkFFhogqwjJgLaL3J8KLOFa4PAAHpbRNHkf72Vow10Sl+anD85+i5ZoOvtCHcvXozYZeqvrZ6TlX0Sutmk48XZBVx6cJkn9ffJPbCokrIGFnlJmMD8Kt5VHtxVvN8GbxzZFn2Xdjj48cHF8XAisx/U7ceCELEjRssmiYfsu7HH4JlLR4bgDl7S8Gt4TESsuDeGcRRsX9aVPzBHPF+hC6HseUrB8cYOlTGI4n0TcWCID2Xdjj8sUleIFwBy9UEhvEWTx/fdq8+jwuF0J6IJIe/cSAF+ICCpGMK4J8ruScCrUPgZgx5/jBpDWlE7wON0xzM3hCTYdLjAlkFlNM3CxvdB8yOjWOQrz/a20KpbTe//hpdKp/u/4SS2XcQwFykNbtKM8W+UjygTB5SlvuSEtcJbWiniGIY11czzzx0jAO6G80X1LPWYaTpMb26w3n04vdCHOc+LxxX+WviQwipICTB2T/nTMcdEqsi3kdMdAGOUm2o2uvpw19Sig8qghpLd8NLpVP93/CSYZGfyFW02Qh2A0aWhjVYMuuvz3xfUs9UwydNK0nYYY+iOZK2GscEDzysZIS1wltKxmkAPmK/QQlODYQ+NwDJ1/lr4lSHOyK+amcpVbvXuOHOc+LxxX+WviQw//NCBgCZsdm2xauqmFibBw3Jt4VEmBkZE7nLGtapaS/b3cLzL2Z8vmZm9sJE/pwSh/wkuVofhAeUIs5BQQHIZedEHkf3rv/ZcOPyCqBOi4mzrCYI3txUmGfLvouWcce8FAg8MxpRfaVNxyI2tYoMBo8K/CPV2bN1QyDz9nrCfLtH3Z2NpHbArP5pu6+n45sP/Iz6cYMTMHEzLxzpHWwfeOptzOV8mRNfsMtTMyfCSJTdqtaiGsGHYU8PFnk4KtHjifLtH/4DY+T9i0cGAaxdpBUlqJ5wv3bE4/9m3Jy5PgqS9EQIUDO7SryEqBdHv0D389H5YYDA83Mu1qTuTSCZW/hFu8Tk9teXtraEXtqTGAwXvbuKf+9IQGmOsiTVROFSqoeTRQ4wU26spb2QJ7zV/9QP+tf/pSLt9BV6ipkVbIs7GAxML5dpZbhj2D4nG0gkoROB0YWFEGpHsKddBp7QLYor9UPfxPcT98bgaDVKKP+2IenoBlQtAv602EIlGSmKLE4DpqLFWgbcQg1uz+p0Y53DUf9dXWhQxR4zTIQf3ilE7q96aTZbWapzt2kHXA/1yPwUCXapU6HEN2z/FSCx/CoyuOnPA7RNNuzFsGlj+IZ8p+hcLc+xvA+blF9c4YBvUfKP/mXbO/NlR84003eX83XuvdDg8DV5N/n35MF0RhQi+KtvevQXCH6TrmulurNLUcuLrcjXk3+3ZWfAxKfCZ/6LNIffHALh6hvXt+UOIP5sfdqvhcEO8mv/epBfbvBVo23OqvLwADG8NZanG9yIC7YUC/4YIXDhHlkCimPFXyhbSUcMtceVvhujQ+OBJ6zVZR3/tFgcj4weVqO4jl3G7ghK2Ms3oEfUk9F5sqsumOF1kdYwQGuO4zpZ64Pq761n61bAn3M94mymrH26CgqCtHvbxW3K+Zg8A26PRe9EatCgVxX/UQ2S0PLyTNhovvX1s1b2EYa2YX/7vZPtlXNTtdChzFweeWmbHspLFjbT4/J70UwBGETthyMJApQcjJWucRm0gLPC9kUGLpQQVkqJYYPq6oLp585Of43jYHbS2r0NgzDXpesKrTkXmeP/3n2YMqqz6oxY/LpM32tTv6B98tJeT9bkQaiWu5Hq165o8LpQwogHfge+QJp9zRuOW5fwPDs0qHW9hN2Hsz/kHXbdYGSm6vyvqXKXf3AVAoQeOdXDsX+7iAKOXgQBDAIYAQJKcAFAAAAMgAABjv5j+hfCjQW6BAIYAhgBAkpwITuAACX/eFd5ZN/wAAGePtdp/AHHw94BtPxKk5NvH72Z8X8TSWmjluTy2ntVoTRW8QpFkQRM2xBa+etoLkpkEzpP/11fP1q9/A4F1V6s1Q7zcKgG9KS8wFCN7MSRYL1p4BNM0WlbKsX7yYM8CBnWeSN5nq2jcinpmXKCgKiGyGw0xSOA7heaon3HJnjk7hETlWrb+C1Lbo1WT2ZYzKE4DDksKJsZBpQBsMjrU9CWTI1zPv7OC2IAHY4lcnr3ndQVoWmf5Xsta+LR99/Ez8X2tJOOgLInawV629iaXGDrF73Rv6Ldmy/wm0PxX66zHopmO82MyIPiXaJW9EmcOTJAdwA+hoXFDqKimVhyBTmQKqKLODVGL9D7a/8pWo4BYh7KGlUALe8qyHiAkMgRhvI77MF2ZjDvp3penU3/cU/2+bFgJMOpJSk2/5FdZ+gIAP0nDiv9gezU0ja0loF232EOv1jzr3PCjloEAyACGAECSnAhQAAADIAAAZWy1shCjQOiBAQsAhgBAkvAhNQAAHHaGHPXgAABqapI8LxLneJ3FoL9DsA6prtbgkxt9b5zc7wCPTwj6A3GMYVNxPnIROv3mO71ygua26TUjuBvhO8kre4MxEqZ3sI7Tx0Qdk5jEmY+QXTWSCL/U8k8bziV2+/tD2fu3GumPtDxWC9uU9OnOFmPFtytzrwDIZhg1IDCl1KvKgtzGw270T/rE2A7Fof+tn+w/iMDDpJjPAazoXhQsWqnEle2QiNH4gErQpnjUtsIjsb6HLMfhxzUenEzimWGiike92I7IJaQNq7dAbC9hLLFWhkJSvYBAo5aBAU4AhgBAkpwIUAAAAyAAAGVstbIQo0ERgQGQAIYAQJLwATuAAAwAAABj5Z1GPrd6h52IFGlrViUKZn6ILCYsMny+I85qpXMhAhn5qhvd3dzN6pznCHsa6zlNCGPizZxfDcmXY18l/8mg8N/T7fyMUwZ3KWRrUPvlzAR6WXNEIT9TDlxjCYv4lYaEMzGUjGrEVOLW6aFLIGXLsAj+MQdWHaynhgcQCEJSf5iZiKQ/dEhxX+FT3icZ36AC7t5A6AjlioJJpOy8Wppnxs2jRKvAFvXHX5bvqzo1QgxRfH6ebOIqz2D7/Szlppa1Lagmzf4Deq5A/zqPoVvh1Djuj4nidYpwyEHiXs8fKxLpMOK5L3hLx4iTLbUCCy2PgDK+ofFFI42IB+xphMAAo5aBAdMAhgBAkpwAUAAAAyAAAGVstbIQo0F3gQIWAIYAQJKcBEogAAMAAABqQAGFrxUdmtpVVRAPVJKtKdBzrz7DbL3fQ47DoF+xgWwAWPGu0jnPo1leF/043Yz/E8n5gjtACGSDRBNPzQ4nowfWyc5d4F5cP2xrnb3sl/+9lwwT2lh43llOBEDyjrac+vN4X5A+FS0x3Md/9nUcOkKtMA/pF9CdCAo096MCR2oJFzVdL1tCUATyRLrCjwrOSAAewk1BVFpBaStTdTVd4uftVW3WWZ89ekitkvZWBZ4MOHqOeYxKPnoQ/loVAaNd4Vwh6euSZzlRdMlbbkv00LqYQk0QiiWcQZZtMnnWkVPKu7yyohhLHaPMFhzIQelpGb6461a7OfaC702k67iRoM0TyzuBLhmRoHgWWxZFVAf1TfyH4HpfHaMA+rz4l6wFvU0q2tHyfYoKlPO6u3aXNmzdrhbk5bsSYpqXcp1P6J1oAK49wziVTk7u3M+77w3EjZlz/RN7/3ykR1M0i5D92ewYE/eAo5aBAlgAhgBAkpwAUAAAAyAAAGVstbIQo0HygQKbAIYAwJKcCEogABAWQbQH1/r33w+DHQYvfoAAZ4+zN9fHwdJaqE1kTi0uec5205bc3ZPIc/WWc3Mi0EcujI35wgSivWbBU4ZsO59Zt4WMU5/VHP9nuz/9D6zXC4B2SBkrqN4Kp4t2LyhruicLEw7nwCzjgWyjOc6JUyZhalB41D4cIDg2O+dTS6B0AANyf0O4M3g24T0YFPSbf0O4QN3s1jaoMz5RQUQuIEfhPjCXvjYrzLPtpVGBengmdRhll7wlY/iEha1rM68ckifxS8jktf98tSAuhd7KPafwTg+kZrLV4/Au5ru2U8qNEhC0yv4jrBE099298S5FbOTier6CUfaz3a+kY0vtf9r1TvEyGWgFHk93tx8Lh+ILUsn7yGRJfDQzf+rp1a/cp9XbH0urg+3R2LWM+QoKBPMNgEadElA+WAwbhkxWVfm6tfflD4FjtMEgxT6zP+eDmnN8NSKikE47FRCyX5WvKMFFm0iD3YfFU84XfFOyfb+isZnCTVXY9Uld6ecM4Tp1kU0mslor0LYdtOIBd1FkdS5DDGhOqbv24zrCHOy6itPv6UsdfDo/wPqI/t8UL7kVeefWXftfbnwNmRM4ssi2L2QOFSGRixPTroKX81y8MMGJUIPhdoAGK0HntuQd/ptOKkYMl+8Ao5aBAt4AhgBAkpwIUAAAAyAAAGVstbIQo0FtgQMgAIYAQJKcAE1AAAcQDb4F/MAAey1WIJaRdmtBZfZYzdqdBGu+4qvE5UrtxnMShWO7teCVKk1eivShixI45JscesWTrlBJE3bZqwSOKodRWUl6qzpiNvQ7603Fm3qWPks2SFWlyTIEiwPpyk/AGynXqicCardTkjBvXGiVXpxE+wlMGFGlrgbjDcRXeyIq9J0XH5RqDI2e87WQ2v3B8HCyxCmvvhT5LuByYKtrtyT4l2GeoOQ5w8p5CYTwHJvRvhXyhBr0ut7d4C0o7ZKdt9vOhyxkV65AGBgmu8xKDYzE8y5oXmTuVowwsGEI4HmSyK5MQnc/P+tXdWKJDs9sRlQSVonTZxo/3kzsb35iTnnCIJX85QfGsV0HzGGnf4saU6pinUsQdjwDpmyVncJPzdJ26RMdLkC6S3WVkOuEAiQw9/wY8cwByEzRB7wF5TBOIfHj2AvQa/EToD2tgCYPli5HU8KBPZJ0VzhswACjloEDYwCGAECSnAhQAAADIAAAZWy1shCjQVOBA6YAhgBAkpwETuAAA3AAAHsq7Zci6Z8RUQENdyrepjX7QaX34Dynxio6PPT2U1aH2CsyyUTsDA9yRTpfr7mGKPouHyWLumXq7OiCT3pZiHcupuzYFmuhCGJm/ytgPvg0ysO7kwFOLzobb5+tI9lwMrCgQFn/RXt420Cj+bskC9wHtoaro48xbMfltg/pqzuuqYUlgrUAtJf5QWvYjIhbxDdcksIJY2cqKQ572SrJOj+LzWRl2b5kmrJK+day5sIzLOwZw8CtK6UE9ntBc+MexM5L59pmwfpzY6rkpEQ/5Ps25j3ZYSoM3VX8BP1gKXhGldQB9i8FTUiJFyTF3sG5ttjRi3aVsu22RgzMMJjbxGxEmh0sVC2hNqNhydEWLlu0uigoWG0r9r4DIBbl2L45gIp3iE7ICaTTCJr8eejbb5O2t7By3pD6xUokng4QW0c9hgCjloED6ACGAECSnARQAAADIAAAZWy1shCjQTqBBCsAhgBAkpwASiAAAwAAAGegH49G7R8qdwTfWNdRa7eq9fbq8qu9lCRn2Q0F1sIuaxin8FXW2hNVfWC1EqVv82fJNrZ8Q1yyCGpBox8phtSyRvW2ri50agaDk+Qu4Q4dvlZLVngJaXbAqee6jS2eM1BfURPW50RudjtUy4W/BZu+1eCbOAsuRqD42cFvkWkRvsP0v6QbV/z7gXd736L94Hnj+MuU3xup6dMT9jgFTCfGkE57Mw0568SkbcsLMt4WXLp+JnubpJP7U614tEbTq0Rvee7VEdUjMvZRCjuOV4ts5N/UYkfno/OqAZoItMxKJeVwGGASRbkCNKkztPxF0zaLlfgDt4raoD6RaV/HLPIOPaqxmlhdOCkTMxt8szVvngXRbZHq6FvV8jzKLVDUZgwa7rvp2bkn+KOWgQRuAIYAQJKcAFAAAAMgAABlbLWyEKNAwIEEsACGAECSnAhO4AADAAAAZ6AZEtTcB5PKLPq61CHjb5um8ISIpiDEWgFuNgvkbasF64D4DEBqLa1DWT/t5iH7HSeCqGkPRRkPq8J07yoFn9u2n7fH6F1X7uZj7AkSvZgA9zUGBbr25upQ823JoXlp3Bj/JGETRwyBd8VUW9VMZZf0IpHKAACLszUP2GNLlQFwPVCO+GCfFYUEwi4Fh3VEQguic3TJI0Iw8ZarOLmxRBiE/2BAv8EnjTpg0C04AKOWgQTzAIYAQJKcCFAAAAMgAABlbLWyEKNA/4EFNgCGAMCSnAhKIAADAAAAZ59hfZnVPwF/i01QrBcc185s2uyrW9JSAALcrCGRP7Ix56T3nE5es4eLM7G6Rnav8fL7Jcruv/PeOAQ6B7J2a9xWbD4nTT6SO9xL/efVjMBCtjezR/onmLwfuuiuGCC+UI0p7ldeLGknj/co9tpm5gOQpwidVBeRKFJ1MTRt6d8v+GFYiRoF9y9It0zwlou+KXbfOEsvWaA6ML9KKvXxsY6rElmDrkkGC+JPVkCrcUsEcuQ/qXAtjc83j0QORZBIWVoAP+wWpnFj88RF/IB0BGb7sxV9nvK+dYMDj81O69uK1NI4LYZ1LnUusa9poKOWgQV4AIYAQJKcCFAAAAMgAABlbLWyEBxTu2uju4+zgQC3iveBAfGCAZ/wgQO7kLOCIVW3iveBAfGCVPLwgQQ=\" type=\"video/webm\">\n",
              " Your browser does not support the video tag.\n",
              " </video>"
            ]
          },
          "metadata": {}
        }
      ]
    }
  ]
}